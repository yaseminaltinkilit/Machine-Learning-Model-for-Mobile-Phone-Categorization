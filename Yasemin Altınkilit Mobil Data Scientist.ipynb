{
 "cells": [
  {
   "cell_type": "markdown",
   "id": "b7db0129",
   "metadata": {},
   "source": [
    "# Import Lib & Data"
   ]
  },
  {
   "cell_type": "code",
   "execution_count": null,
   "id": "ab6524ce",
   "metadata": {},
   "outputs": [],
   "source": []
  },
  {
   "cell_type": "code",
   "execution_count": 21,
   "id": "630716fc-578f-475e-86a8-d705e2962e85",
   "metadata": {},
   "outputs": [],
   "source": [
    "#datayı import etmek ve düzenlemek için kütüphaneleri import ediyorum.\n",
    "import pandas as pd\n",
    "import numpy as np\n",
    "from pandas_profiling import ProfileReport\n",
    "\n",
    "from IPython.core.interactiveshell import InteractiveShell\n",
    "InteractiveShell.ast_node_interactivity = \"all\""
   ]
  },
  {
   "cell_type": "code",
   "execution_count": 22,
   "id": "2d4f65ef-981c-44f9-9e28-38280c6018af",
   "metadata": {},
   "outputs": [],
   "source": [
    "#datayı import edip copy alıyorum. Herhangi bir durumda datam bozulmasın diye.\n",
    "data_mobil = pd.read_csv(\"Mobil.csv\",\n",
    "                         sep=\"\\t\",\n",
    "                         encoding=\"utf-8\",\n",
    "                         low_memory=False,\n",
    "                         header=0,\n",
    "                         decimal=\",\")\n",
    "df = data_mobil.copy()"
   ]
  },
  {
   "cell_type": "code",
   "execution_count": 23,
   "id": "0ff57945",
   "metadata": {},
   "outputs": [
    {
     "data": {
      "text/html": [
       "<div>\n",
       "<style scoped>\n",
       "    .dataframe tbody tr th:only-of-type {\n",
       "        vertical-align: middle;\n",
       "    }\n",
       "\n",
       "    .dataframe tbody tr th {\n",
       "        vertical-align: top;\n",
       "    }\n",
       "\n",
       "    .dataframe thead th {\n",
       "        text-align: right;\n",
       "    }\n",
       "</style>\n",
       "<table border=\"1\" class=\"dataframe\">\n",
       "  <thead>\n",
       "    <tr style=\"text-align: right;\">\n",
       "      <th></th>\n",
       "      <th>Unnamed: 0</th>\n",
       "      <th>Unnamed: 0.1</th>\n",
       "      <th>BataryaGucu</th>\n",
       "      <th>Bluetooth</th>\n",
       "      <th>MikroislemciHizi</th>\n",
       "      <th>CiftHat</th>\n",
       "      <th>OnKameraMP</th>\n",
       "      <th>4G</th>\n",
       "      <th>DahiliBellek</th>\n",
       "      <th>Kalinlik</th>\n",
       "      <th>...</th>\n",
       "      <th>ArkaKameraMP</th>\n",
       "      <th>CozunurlukYükseklik</th>\n",
       "      <th>CozunurlukGenislik</th>\n",
       "      <th>RAM</th>\n",
       "      <th>BataryaOmru</th>\n",
       "      <th>3G</th>\n",
       "      <th>Dokunmatik</th>\n",
       "      <th>WiFi</th>\n",
       "      <th>FiyatAraligi</th>\n",
       "      <th>Renk</th>\n",
       "    </tr>\n",
       "  </thead>\n",
       "  <tbody>\n",
       "    <tr>\n",
       "      <th>0</th>\n",
       "      <td>0</td>\n",
       "      <td>0</td>\n",
       "      <td>1325</td>\n",
       "      <td>Yok</td>\n",
       "      <td>1.9</td>\n",
       "      <td>Yok</td>\n",
       "      <td>2,0</td>\n",
       "      <td>Yok</td>\n",
       "      <td>50</td>\n",
       "      <td>0.1</td>\n",
       "      <td>...</td>\n",
       "      <td>10</td>\n",
       "      <td>499</td>\n",
       "      <td>695</td>\n",
       "      <td>2328.0</td>\n",
       "      <td>2</td>\n",
       "      <td>Var</td>\n",
       "      <td>Yok</td>\n",
       "      <td>Yok</td>\n",
       "      <td>Normal</td>\n",
       "      <td>Beyaz</td>\n",
       "    </tr>\n",
       "    <tr>\n",
       "      <th>1</th>\n",
       "      <td>1</td>\n",
       "      <td>1</td>\n",
       "      <td>1046</td>\n",
       "      <td>Var</td>\n",
       "      <td>2.8</td>\n",
       "      <td>Var</td>\n",
       "      <td>0.0</td>\n",
       "      <td>Var</td>\n",
       "      <td>58</td>\n",
       "      <td>0.2</td>\n",
       "      <td>...</td>\n",
       "      <td>0</td>\n",
       "      <td>259</td>\n",
       "      <td>1040</td>\n",
       "      <td>3863.0</td>\n",
       "      <td>9</td>\n",
       "      <td>Var</td>\n",
       "      <td>Var</td>\n",
       "      <td>Var</td>\n",
       "      <td>Pahalı</td>\n",
       "      <td>Pembe</td>\n",
       "    </tr>\n",
       "    <tr>\n",
       "      <th>2</th>\n",
       "      <td>2</td>\n",
       "      <td>2</td>\n",
       "      <td>843</td>\n",
       "      <td>Yok</td>\n",
       "      <td>1.3</td>\n",
       "      <td>Var</td>\n",
       "      <td>1.0</td>\n",
       "      <td>Yok</td>\n",
       "      <td>16</td>\n",
       "      <td>0.9</td>\n",
       "      <td>...</td>\n",
       "      <td>4</td>\n",
       "      <td>593</td>\n",
       "      <td>732</td>\n",
       "      <td>1734.0</td>\n",
       "      <td>14</td>\n",
       "      <td>Yok</td>\n",
       "      <td>Yok</td>\n",
       "      <td>Var</td>\n",
       "      <td>Ucuz</td>\n",
       "      <td>Mor</td>\n",
       "    </tr>\n",
       "    <tr>\n",
       "      <th>3</th>\n",
       "      <td>3</td>\n",
       "      <td>3</td>\n",
       "      <td>894</td>\n",
       "      <td>Yok</td>\n",
       "      <td>0.5</td>\n",
       "      <td>Var</td>\n",
       "      <td>1,0</td>\n",
       "      <td>Var</td>\n",
       "      <td>50</td>\n",
       "      <td>0.5</td>\n",
       "      <td>...</td>\n",
       "      <td>14</td>\n",
       "      <td>1285</td>\n",
       "      <td>1462</td>\n",
       "      <td>3615.0</td>\n",
       "      <td>6</td>\n",
       "      <td>Var</td>\n",
       "      <td>Yok</td>\n",
       "      <td>Var</td>\n",
       "      <td>Pahalı</td>\n",
       "      <td>Turuncu</td>\n",
       "    </tr>\n",
       "    <tr>\n",
       "      <th>4</th>\n",
       "      <td>4</td>\n",
       "      <td>4</td>\n",
       "      <td>936</td>\n",
       "      <td>Yok</td>\n",
       "      <td>1.0</td>\n",
       "      <td>Yok</td>\n",
       "      <td>1.0</td>\n",
       "      <td>Yok</td>\n",
       "      <td>18</td>\n",
       "      <td>0.2</td>\n",
       "      <td>...</td>\n",
       "      <td>18</td>\n",
       "      <td>1330</td>\n",
       "      <td>1686</td>\n",
       "      <td>2391.0</td>\n",
       "      <td>3</td>\n",
       "      <td>Var</td>\n",
       "      <td>Var</td>\n",
       "      <td>Var</td>\n",
       "      <td>Normal</td>\n",
       "      <td>Beyaz</td>\n",
       "    </tr>\n",
       "  </tbody>\n",
       "</table>\n",
       "<p>5 rows × 22 columns</p>\n",
       "</div>"
      ],
      "text/plain": [
       "   Unnamed: 0  Unnamed: 0.1  BataryaGucu Bluetooth  MikroislemciHizi CiftHat  \\\n",
       "0           0             0         1325       Yok               1.9     Yok   \n",
       "1           1             1         1046       Var               2.8     Var   \n",
       "2           2             2          843       Yok               1.3     Var   \n",
       "3           3             3          894       Yok               0.5     Var   \n",
       "4           4             4          936       Yok               1.0     Yok   \n",
       "\n",
       "  OnKameraMP   4G  DahiliBellek  Kalinlik  ...  ArkaKameraMP  \\\n",
       "0        2,0  Yok            50       0.1  ...            10   \n",
       "1        0.0  Var            58       0.2  ...             0   \n",
       "2        1.0  Yok            16       0.9  ...             4   \n",
       "3        1,0  Var            50       0.5  ...            14   \n",
       "4        1.0  Yok            18       0.2  ...            18   \n",
       "\n",
       "   CozunurlukYükseklik  CozunurlukGenislik     RAM  BataryaOmru   3G  \\\n",
       "0                  499                 695  2328.0            2  Var   \n",
       "1                  259                1040  3863.0            9  Var   \n",
       "2                  593                 732  1734.0           14  Yok   \n",
       "3                 1285                1462  3615.0            6  Var   \n",
       "4                 1330                1686  2391.0            3  Var   \n",
       "\n",
       "   Dokunmatik WiFi FiyatAraligi     Renk  \n",
       "0         Yok  Yok       Normal    Beyaz  \n",
       "1         Var  Var       Pahalı    Pembe  \n",
       "2         Yok  Var         Ucuz      Mor  \n",
       "3         Yok  Var       Pahalı  Turuncu  \n",
       "4         Var  Var       Normal    Beyaz  \n",
       "\n",
       "[5 rows x 22 columns]"
      ]
     },
     "execution_count": 23,
     "metadata": {},
     "output_type": "execute_result"
    }
   ],
   "source": [
    "#head ile data özetine bakıyorum. Datayı tanımak amaçlı.\n",
    "df.head()"
   ]
  },
  {
   "cell_type": "code",
   "execution_count": 24,
   "id": "0c96b432",
   "metadata": {},
   "outputs": [],
   "source": [
    "#unname columnu siliyorum. Gereksiz bulduğum için.\n",
    "df.drop(df.filter(regex=\"Unname\"),axis=1, inplace=True)"
   ]
  },
  {
   "cell_type": "code",
   "execution_count": 25,
   "id": "7630edaf-89f3-4929-a61f-bc3bc0a2843f",
   "metadata": {
    "scrolled": true
   },
   "outputs": [
    {
     "data": {
      "text/html": [
       "<div>\n",
       "<style scoped>\n",
       "    .dataframe tbody tr th:only-of-type {\n",
       "        vertical-align: middle;\n",
       "    }\n",
       "\n",
       "    .dataframe tbody tr th {\n",
       "        vertical-align: top;\n",
       "    }\n",
       "\n",
       "    .dataframe thead th {\n",
       "        text-align: right;\n",
       "    }\n",
       "</style>\n",
       "<table border=\"1\" class=\"dataframe\">\n",
       "  <thead>\n",
       "    <tr style=\"text-align: right;\">\n",
       "      <th></th>\n",
       "      <th>BataryaGucu</th>\n",
       "      <th>Bluetooth</th>\n",
       "      <th>MikroislemciHizi</th>\n",
       "      <th>CiftHat</th>\n",
       "      <th>OnKameraMP</th>\n",
       "      <th>4G</th>\n",
       "      <th>DahiliBellek</th>\n",
       "      <th>Kalinlik</th>\n",
       "      <th>Agirlik</th>\n",
       "      <th>CekirdekSayisi</th>\n",
       "      <th>ArkaKameraMP</th>\n",
       "      <th>CozunurlukYükseklik</th>\n",
       "      <th>CozunurlukGenislik</th>\n",
       "      <th>RAM</th>\n",
       "      <th>BataryaOmru</th>\n",
       "      <th>3G</th>\n",
       "      <th>Dokunmatik</th>\n",
       "      <th>WiFi</th>\n",
       "      <th>FiyatAraligi</th>\n",
       "      <th>Renk</th>\n",
       "    </tr>\n",
       "  </thead>\n",
       "  <tbody>\n",
       "    <tr>\n",
       "      <th>0</th>\n",
       "      <td>1325</td>\n",
       "      <td>Yok</td>\n",
       "      <td>1.9</td>\n",
       "      <td>Yok</td>\n",
       "      <td>2,0</td>\n",
       "      <td>Yok</td>\n",
       "      <td>50</td>\n",
       "      <td>0.1</td>\n",
       "      <td>146</td>\n",
       "      <td>1</td>\n",
       "      <td>10</td>\n",
       "      <td>499</td>\n",
       "      <td>695</td>\n",
       "      <td>2328.0</td>\n",
       "      <td>2</td>\n",
       "      <td>Var</td>\n",
       "      <td>Yok</td>\n",
       "      <td>Yok</td>\n",
       "      <td>Normal</td>\n",
       "      <td>Beyaz</td>\n",
       "    </tr>\n",
       "    <tr>\n",
       "      <th>1</th>\n",
       "      <td>1046</td>\n",
       "      <td>Var</td>\n",
       "      <td>2.8</td>\n",
       "      <td>Var</td>\n",
       "      <td>0.0</td>\n",
       "      <td>Var</td>\n",
       "      <td>58</td>\n",
       "      <td>0.2</td>\n",
       "      <td>100</td>\n",
       "      <td>8</td>\n",
       "      <td>0</td>\n",
       "      <td>259</td>\n",
       "      <td>1040</td>\n",
       "      <td>3863.0</td>\n",
       "      <td>9</td>\n",
       "      <td>Var</td>\n",
       "      <td>Var</td>\n",
       "      <td>Var</td>\n",
       "      <td>Pahalı</td>\n",
       "      <td>Pembe</td>\n",
       "    </tr>\n",
       "    <tr>\n",
       "      <th>2</th>\n",
       "      <td>843</td>\n",
       "      <td>Yok</td>\n",
       "      <td>1.3</td>\n",
       "      <td>Var</td>\n",
       "      <td>1.0</td>\n",
       "      <td>Yok</td>\n",
       "      <td>16</td>\n",
       "      <td>0.9</td>\n",
       "      <td>119</td>\n",
       "      <td>7</td>\n",
       "      <td>4</td>\n",
       "      <td>593</td>\n",
       "      <td>732</td>\n",
       "      <td>1734.0</td>\n",
       "      <td>14</td>\n",
       "      <td>Yok</td>\n",
       "      <td>Yok</td>\n",
       "      <td>Var</td>\n",
       "      <td>Ucuz</td>\n",
       "      <td>Mor</td>\n",
       "    </tr>\n",
       "    <tr>\n",
       "      <th>3</th>\n",
       "      <td>894</td>\n",
       "      <td>Yok</td>\n",
       "      <td>0.5</td>\n",
       "      <td>Var</td>\n",
       "      <td>1,0</td>\n",
       "      <td>Var</td>\n",
       "      <td>50</td>\n",
       "      <td>0.5</td>\n",
       "      <td>199</td>\n",
       "      <td>3</td>\n",
       "      <td>14</td>\n",
       "      <td>1285</td>\n",
       "      <td>1462</td>\n",
       "      <td>3615.0</td>\n",
       "      <td>6</td>\n",
       "      <td>Var</td>\n",
       "      <td>Yok</td>\n",
       "      <td>Var</td>\n",
       "      <td>Pahalı</td>\n",
       "      <td>Turuncu</td>\n",
       "    </tr>\n",
       "    <tr>\n",
       "      <th>4</th>\n",
       "      <td>936</td>\n",
       "      <td>Yok</td>\n",
       "      <td>1.0</td>\n",
       "      <td>Yok</td>\n",
       "      <td>1.0</td>\n",
       "      <td>Yok</td>\n",
       "      <td>18</td>\n",
       "      <td>0.2</td>\n",
       "      <td>153</td>\n",
       "      <td>3</td>\n",
       "      <td>18</td>\n",
       "      <td>1330</td>\n",
       "      <td>1686</td>\n",
       "      <td>2391.0</td>\n",
       "      <td>3</td>\n",
       "      <td>Var</td>\n",
       "      <td>Var</td>\n",
       "      <td>Var</td>\n",
       "      <td>Normal</td>\n",
       "      <td>Beyaz</td>\n",
       "    </tr>\n",
       "  </tbody>\n",
       "</table>\n",
       "</div>"
      ],
      "text/plain": [
       "   BataryaGucu Bluetooth  MikroislemciHizi CiftHat OnKameraMP   4G  \\\n",
       "0         1325       Yok               1.9     Yok        2,0  Yok   \n",
       "1         1046       Var               2.8     Var        0.0  Var   \n",
       "2          843       Yok               1.3     Var        1.0  Yok   \n",
       "3          894       Yok               0.5     Var        1,0  Var   \n",
       "4          936       Yok               1.0     Yok        1.0  Yok   \n",
       "\n",
       "   DahiliBellek  Kalinlik  Agirlik  CekirdekSayisi  ArkaKameraMP  \\\n",
       "0            50       0.1      146               1            10   \n",
       "1            58       0.2      100               8             0   \n",
       "2            16       0.9      119               7             4   \n",
       "3            50       0.5      199               3            14   \n",
       "4            18       0.2      153               3            18   \n",
       "\n",
       "   CozunurlukYükseklik  CozunurlukGenislik     RAM  BataryaOmru   3G  \\\n",
       "0                  499                 695  2328.0            2  Var   \n",
       "1                  259                1040  3863.0            9  Var   \n",
       "2                  593                 732  1734.0           14  Yok   \n",
       "3                 1285                1462  3615.0            6  Var   \n",
       "4                 1330                1686  2391.0            3  Var   \n",
       "\n",
       "  Dokunmatik WiFi FiyatAraligi     Renk  \n",
       "0        Yok  Yok       Normal    Beyaz  \n",
       "1        Var  Var       Pahalı    Pembe  \n",
       "2        Yok  Var         Ucuz      Mor  \n",
       "3        Yok  Var       Pahalı  Turuncu  \n",
       "4        Var  Var       Normal    Beyaz  "
      ]
     },
     "execution_count": 25,
     "metadata": {},
     "output_type": "execute_result"
    }
   ],
   "source": [
    "df.head()"
   ]
  },
  {
   "cell_type": "code",
   "execution_count": 26,
   "id": "2cc02a6d",
   "metadata": {},
   "outputs": [
    {
     "name": "stdout",
     "output_type": "stream",
     "text": [
      "<class 'pandas.core.frame.DataFrame'>\n",
      "RangeIndex: 2017 entries, 0 to 2016\n",
      "Data columns (total 20 columns):\n",
      " #   Column               Non-Null Count  Dtype  \n",
      "---  ------               --------------  -----  \n",
      " 0   BataryaGucu          2017 non-null   int64  \n",
      " 1   Bluetooth            2017 non-null   object \n",
      " 2   MikroislemciHizi     2017 non-null   float64\n",
      " 3   CiftHat              2017 non-null   object \n",
      " 4   OnKameraMP           2012 non-null   object \n",
      " 5   4G                   2017 non-null   object \n",
      " 6   DahiliBellek         2017 non-null   int64  \n",
      " 7   Kalinlik             2017 non-null   float64\n",
      " 8   Agirlik              2017 non-null   int64  \n",
      " 9   CekirdekSayisi       2017 non-null   int64  \n",
      " 10  ArkaKameraMP         2017 non-null   int64  \n",
      " 11  CozunurlukYükseklik  2017 non-null   int64  \n",
      " 12  CozunurlukGenislik   2017 non-null   int64  \n",
      " 13  RAM                  2005 non-null   object \n",
      " 14  BataryaOmru          2017 non-null   int64  \n",
      " 15  3G                   2013 non-null   object \n",
      " 16  Dokunmatik           2017 non-null   object \n",
      " 17  WiFi                 2017 non-null   object \n",
      " 18  FiyatAraligi         2017 non-null   object \n",
      " 19  Renk                 2017 non-null   object \n",
      "dtypes: float64(2), int64(8), object(10)\n",
      "memory usage: 315.3+ KB\n"
     ]
    }
   ],
   "source": [
    "#Typleri kontrol ediyorum. Onkameraya baktığımda numericti fakat burda object diyor. Aynı şekilde Ram de öyle.\n",
    "\n",
    "df.info()"
   ]
  },
  {
   "cell_type": "markdown",
   "id": "9dfb806a",
   "metadata": {},
   "source": [
    "## Duplicate Rows"
   ]
  },
  {
   "cell_type": "code",
   "execution_count": 27,
   "id": "fc134e81",
   "metadata": {},
   "outputs": [],
   "source": [
    "#aynı satırları siliyorum.\n",
    "\n",
    "df.drop_duplicates(inplace= True)"
   ]
  },
  {
   "cell_type": "code",
   "execution_count": 28,
   "id": "68604e02",
   "metadata": {},
   "outputs": [],
   "source": [
    "from sklearn.preprocessing import OneHotEncoder \n",
    "from sklearn.preprocessing import LabelEncoder"
   ]
  },
  {
   "cell_type": "markdown",
   "id": "f4d24b62",
   "metadata": {},
   "source": [
    "## Astype"
   ]
  },
  {
   "cell_type": "code",
   "execution_count": 29,
   "id": "26289722",
   "metadata": {},
   "outputs": [],
   "source": [
    "#onkamerayı incelediğimde bazılarında 2.0 iken bazıları 2,0 idi. Onları düzenliyorum.\n",
    "df[\"OnKameraMP\"] = df[\"OnKameraMP\"].str.replace(\",\", \".\")"
   ]
  },
  {
   "cell_type": "code",
   "execution_count": 30,
   "id": "df176f93",
   "metadata": {},
   "outputs": [],
   "source": [
    "#onkamera ve Ram typelarını objectten floata dönüştürüyorum.\n",
    "df['OnKameraMP']= df['OnKameraMP'].astype(str).astype(float)\n",
    "df['RAM']= df['RAM'].astype(str).astype(float)"
   ]
  },
  {
   "cell_type": "code",
   "execution_count": 31,
   "id": "f07e8152",
   "metadata": {},
   "outputs": [
    {
     "name": "stdout",
     "output_type": "stream",
     "text": [
      "<class 'pandas.core.frame.DataFrame'>\n",
      "Int64Index: 2000 entries, 0 to 1999\n",
      "Data columns (total 20 columns):\n",
      " #   Column               Non-Null Count  Dtype  \n",
      "---  ------               --------------  -----  \n",
      " 0   BataryaGucu          2000 non-null   int64  \n",
      " 1   Bluetooth            2000 non-null   object \n",
      " 2   MikroislemciHizi     2000 non-null   float64\n",
      " 3   CiftHat              2000 non-null   object \n",
      " 4   OnKameraMP           1995 non-null   float64\n",
      " 5   4G                   2000 non-null   object \n",
      " 6   DahiliBellek         2000 non-null   int64  \n",
      " 7   Kalinlik             2000 non-null   float64\n",
      " 8   Agirlik              2000 non-null   int64  \n",
      " 9   CekirdekSayisi       2000 non-null   int64  \n",
      " 10  ArkaKameraMP         2000 non-null   int64  \n",
      " 11  CozunurlukYükseklik  2000 non-null   int64  \n",
      " 12  CozunurlukGenislik   2000 non-null   int64  \n",
      " 13  RAM                  1988 non-null   float64\n",
      " 14  BataryaOmru          2000 non-null   int64  \n",
      " 15  3G                   1996 non-null   object \n",
      " 16  Dokunmatik           2000 non-null   object \n",
      " 17  WiFi                 2000 non-null   object \n",
      " 18  FiyatAraligi         2000 non-null   object \n",
      " 19  Renk                 2000 non-null   object \n",
      "dtypes: float64(4), int64(8), object(8)\n",
      "memory usage: 328.1+ KB\n"
     ]
    }
   ],
   "source": [
    "df.info()"
   ]
  },
  {
   "cell_type": "code",
   "execution_count": 32,
   "id": "919344d5",
   "metadata": {},
   "outputs": [],
   "source": [
    "#kategorik ve numerik columnları ayırıyorum.\n",
    "cat_cols = df.select_dtypes(\"O\").columns\n",
    "num_cols = df.select_dtypes(\"number\").columns"
   ]
  },
  {
   "cell_type": "code",
   "execution_count": 33,
   "id": "de9b675d",
   "metadata": {},
   "outputs": [
    {
     "data": {
      "text/plain": [
       "Index(['Bluetooth', 'CiftHat', '4G', '3G', 'Dokunmatik', 'WiFi',\n",
       "       'FiyatAraligi', 'Renk'],\n",
       "      dtype='object')"
      ]
     },
     "execution_count": 33,
     "metadata": {},
     "output_type": "execute_result"
    },
    {
     "data": {
      "text/plain": [
       "Index(['BataryaGucu', 'MikroislemciHizi', 'OnKameraMP', 'DahiliBellek',\n",
       "       'Kalinlik', 'Agirlik', 'CekirdekSayisi', 'ArkaKameraMP',\n",
       "       'CozunurlukYükseklik', 'CozunurlukGenislik', 'RAM', 'BataryaOmru'],\n",
       "      dtype='object')"
      ]
     },
     "execution_count": 33,
     "metadata": {},
     "output_type": "execute_result"
    }
   ],
   "source": [
    "cat_cols\n",
    "\n",
    "num_cols"
   ]
  },
  {
   "cell_type": "markdown",
   "id": "b495ba39",
   "metadata": {},
   "source": [
    "#  EDA"
   ]
  },
  {
   "cell_type": "markdown",
   "id": "bb58ef4b",
   "metadata": {},
   "source": [
    "## Pandas Profiling"
   ]
  },
  {
   "cell_type": "markdown",
   "id": "9eeae4b4",
   "metadata": {},
   "source": [
    "Data hakkında analizleri hazırladığı için burdan yardım alıyorum. Outlierda burdan faydalanacağım."
   ]
  },
  {
   "cell_type": "code",
   "execution_count": 34,
   "id": "cb196ca6",
   "metadata": {},
   "outputs": [],
   "source": [
    "profile = ProfileReport(df, title=\"Pandas Profiling Report\")"
   ]
  },
  {
   "cell_type": "code",
   "execution_count": 35,
   "id": "c51203dc",
   "metadata": {
    "scrolled": false
   },
   "outputs": [
    {
     "data": {
      "application/vnd.jupyter.widget-view+json": {
       "model_id": "abfbf28cc40c42f49d972664e5244cdc",
       "version_major": 2,
       "version_minor": 0
      },
      "text/plain": [
       "Summarize dataset:   0%|          | 0/33 [00:00<?, ?it/s]"
      ]
     },
     "metadata": {},
     "output_type": "display_data"
    },
    {
     "data": {
      "application/vnd.jupyter.widget-view+json": {
       "model_id": "61060f6a84d94dc1992fa3ffd72244ef",
       "version_major": 2,
       "version_minor": 0
      },
      "text/plain": [
       "Generate report structure:   0%|          | 0/1 [00:00<?, ?it/s]"
      ]
     },
     "metadata": {},
     "output_type": "display_data"
    },
    {
     "data": {
      "application/vnd.jupyter.widget-view+json": {
       "model_id": "",
       "version_major": 2,
       "version_minor": 0
      },
      "text/plain": [
       "Render widgets:   0%|          | 0/1 [00:00<?, ?it/s]"
      ]
     },
     "metadata": {},
     "output_type": "display_data"
    },
    {
     "data": {
      "application/vnd.jupyter.widget-view+json": {
       "model_id": "5334593c6e5a4bdda841707b61e9144c",
       "version_major": 2,
       "version_minor": 0
      },
      "text/plain": [
       "VBox(children=(Tab(children=(Tab(children=(GridBox(children=(VBox(children=(GridspecLayout(children=(HTML(valu…"
      ]
     },
     "metadata": {},
     "output_type": "display_data"
    }
   ],
   "source": [
    "profile.to_widgets()"
   ]
  },
  {
   "cell_type": "code",
   "execution_count": 17,
   "id": "fbf43e1f",
   "metadata": {},
   "outputs": [
    {
     "data": {
      "application/vnd.jupyter.widget-view+json": {
       "model_id": "f3be6c028a9a4d4a87adbca073e4f57c",
       "version_major": 2,
       "version_minor": 0
      },
      "text/plain": [
       "Render HTML:   0%|          | 0/1 [00:00<?, ?it/s]"
      ]
     },
     "metadata": {},
     "output_type": "display_data"
    },
    {
     "data": {
      "application/vnd.jupyter.widget-view+json": {
       "model_id": "de88261b9e074d81bdafb69e3ca88679",
       "version_major": 2,
       "version_minor": 0
      },
      "text/plain": [
       "Export report to file:   0%|          | 0/1 [00:00<?, ?it/s]"
      ]
     },
     "metadata": {},
     "output_type": "display_data"
    }
   ],
   "source": [
    "profile.to_file(\"Pandas_Profile_Report.html\")"
   ]
  },
  {
   "cell_type": "code",
   "execution_count": null,
   "id": "592b7c1f",
   "metadata": {},
   "outputs": [],
   "source": []
  },
  {
   "cell_type": "markdown",
   "id": "0aae3c87",
   "metadata": {},
   "source": [
    "## Sweetviz"
   ]
  },
  {
   "cell_type": "code",
   "execution_count": 18,
   "id": "17e1352c",
   "metadata": {},
   "outputs": [],
   "source": [
    "#dataprofoling uyguladığım için buna gerek yok\n",
    "# importing sweetviz\n",
    "#import sweetviz as sv\n",
    "#analyzing the dataset\n",
    "#report = sv.analyze(df)\n",
    "#display the report\n",
    "#report.show_html('Sweetviz_Report.html')"
   ]
  },
  {
   "cell_type": "code",
   "execution_count": null,
   "id": "3fd85ed7",
   "metadata": {},
   "outputs": [],
   "source": []
  },
  {
   "cell_type": "markdown",
   "id": "6441366a",
   "metadata": {},
   "source": [
    "## Statics info, describe"
   ]
  },
  {
   "cell_type": "code",
   "execution_count": 72,
   "id": "5c9c8833",
   "metadata": {},
   "outputs": [
    {
     "name": "stdout",
     "output_type": "stream",
     "text": [
      "<class 'pandas.core.frame.DataFrame'>\n",
      "Int64Index: 2000 entries, 0 to 1999\n",
      "Data columns (total 20 columns):\n",
      " #   Column               Non-Null Count  Dtype  \n",
      "---  ------               --------------  -----  \n",
      " 0   BataryaGucu          2000 non-null   int64  \n",
      " 1   Bluetooth            2000 non-null   object \n",
      " 2   MikroislemciHizi     2000 non-null   float64\n",
      " 3   CiftHat              2000 non-null   object \n",
      " 4   OnKameraMP           1995 non-null   float64\n",
      " 5   4G                   2000 non-null   object \n",
      " 6   DahiliBellek         2000 non-null   int64  \n",
      " 7   Kalinlik             2000 non-null   float64\n",
      " 8   Agirlik              2000 non-null   int64  \n",
      " 9   CekirdekSayisi       2000 non-null   int64  \n",
      " 10  ArkaKameraMP         2000 non-null   int64  \n",
      " 11  CozunurlukYükseklik  2000 non-null   int64  \n",
      " 12  CozunurlukGenislik   2000 non-null   int64  \n",
      " 13  RAM                  1988 non-null   float64\n",
      " 14  BataryaOmru          2000 non-null   int64  \n",
      " 15  3G                   1996 non-null   object \n",
      " 16  Dokunmatik           2000 non-null   object \n",
      " 17  WiFi                 2000 non-null   object \n",
      " 18  FiyatAraligi         2000 non-null   object \n",
      " 19  Renk                 2000 non-null   object \n",
      "dtypes: float64(4), int64(8), object(8)\n",
      "memory usage: 328.1+ KB\n"
     ]
    }
   ],
   "source": [
    "df.info()"
   ]
  },
  {
   "cell_type": "code",
   "execution_count": 36,
   "id": "fa3a49f4",
   "metadata": {},
   "outputs": [
    {
     "data": {
      "text/html": [
       "<div>\n",
       "<style scoped>\n",
       "    .dataframe tbody tr th:only-of-type {\n",
       "        vertical-align: middle;\n",
       "    }\n",
       "\n",
       "    .dataframe tbody tr th {\n",
       "        vertical-align: top;\n",
       "    }\n",
       "\n",
       "    .dataframe thead th {\n",
       "        text-align: right;\n",
       "    }\n",
       "</style>\n",
       "<table border=\"1\" class=\"dataframe\">\n",
       "  <thead>\n",
       "    <tr style=\"text-align: right;\">\n",
       "      <th></th>\n",
       "      <th>count</th>\n",
       "      <th>mean</th>\n",
       "      <th>std</th>\n",
       "      <th>min</th>\n",
       "      <th>25%</th>\n",
       "      <th>50%</th>\n",
       "      <th>75%</th>\n",
       "      <th>max</th>\n",
       "    </tr>\n",
       "  </thead>\n",
       "  <tbody>\n",
       "    <tr>\n",
       "      <th>BataryaGucu</th>\n",
       "      <td>2000.0</td>\n",
       "      <td>1238.518500</td>\n",
       "      <td>439.418206</td>\n",
       "      <td>501.0</td>\n",
       "      <td>851.75</td>\n",
       "      <td>1226.0</td>\n",
       "      <td>1615.25</td>\n",
       "      <td>1998.0</td>\n",
       "    </tr>\n",
       "    <tr>\n",
       "      <th>MikroislemciHizi</th>\n",
       "      <td>2000.0</td>\n",
       "      <td>1.522250</td>\n",
       "      <td>0.816004</td>\n",
       "      <td>0.5</td>\n",
       "      <td>0.70</td>\n",
       "      <td>1.5</td>\n",
       "      <td>2.20</td>\n",
       "      <td>3.0</td>\n",
       "    </tr>\n",
       "    <tr>\n",
       "      <th>OnKameraMP</th>\n",
       "      <td>1995.0</td>\n",
       "      <td>4.312281</td>\n",
       "      <td>4.342095</td>\n",
       "      <td>0.0</td>\n",
       "      <td>1.00</td>\n",
       "      <td>3.0</td>\n",
       "      <td>7.00</td>\n",
       "      <td>19.0</td>\n",
       "    </tr>\n",
       "    <tr>\n",
       "      <th>DahiliBellek</th>\n",
       "      <td>2000.0</td>\n",
       "      <td>32.046500</td>\n",
       "      <td>18.145715</td>\n",
       "      <td>2.0</td>\n",
       "      <td>16.00</td>\n",
       "      <td>32.0</td>\n",
       "      <td>48.00</td>\n",
       "      <td>64.0</td>\n",
       "    </tr>\n",
       "    <tr>\n",
       "      <th>Kalinlik</th>\n",
       "      <td>2000.0</td>\n",
       "      <td>0.501750</td>\n",
       "      <td>0.288416</td>\n",
       "      <td>0.1</td>\n",
       "      <td>0.20</td>\n",
       "      <td>0.5</td>\n",
       "      <td>0.80</td>\n",
       "      <td>1.0</td>\n",
       "    </tr>\n",
       "    <tr>\n",
       "      <th>Agirlik</th>\n",
       "      <td>2000.0</td>\n",
       "      <td>140.249000</td>\n",
       "      <td>35.399655</td>\n",
       "      <td>80.0</td>\n",
       "      <td>109.00</td>\n",
       "      <td>141.0</td>\n",
       "      <td>170.00</td>\n",
       "      <td>200.0</td>\n",
       "    </tr>\n",
       "    <tr>\n",
       "      <th>CekirdekSayisi</th>\n",
       "      <td>2000.0</td>\n",
       "      <td>4.520500</td>\n",
       "      <td>2.287837</td>\n",
       "      <td>1.0</td>\n",
       "      <td>3.00</td>\n",
       "      <td>4.0</td>\n",
       "      <td>7.00</td>\n",
       "      <td>8.0</td>\n",
       "    </tr>\n",
       "    <tr>\n",
       "      <th>ArkaKameraMP</th>\n",
       "      <td>2000.0</td>\n",
       "      <td>9.916500</td>\n",
       "      <td>6.064315</td>\n",
       "      <td>0.0</td>\n",
       "      <td>5.00</td>\n",
       "      <td>10.0</td>\n",
       "      <td>15.00</td>\n",
       "      <td>20.0</td>\n",
       "    </tr>\n",
       "    <tr>\n",
       "      <th>CozunurlukYükseklik</th>\n",
       "      <td>2000.0</td>\n",
       "      <td>645.108000</td>\n",
       "      <td>443.780811</td>\n",
       "      <td>0.0</td>\n",
       "      <td>282.75</td>\n",
       "      <td>564.0</td>\n",
       "      <td>947.25</td>\n",
       "      <td>1960.0</td>\n",
       "    </tr>\n",
       "    <tr>\n",
       "      <th>CozunurlukGenislik</th>\n",
       "      <td>2000.0</td>\n",
       "      <td>1251.515500</td>\n",
       "      <td>432.199447</td>\n",
       "      <td>500.0</td>\n",
       "      <td>874.75</td>\n",
       "      <td>1247.0</td>\n",
       "      <td>1633.00</td>\n",
       "      <td>1998.0</td>\n",
       "    </tr>\n",
       "    <tr>\n",
       "      <th>RAM</th>\n",
       "      <td>1988.0</td>\n",
       "      <td>2116.243964</td>\n",
       "      <td>1082.513059</td>\n",
       "      <td>256.0</td>\n",
       "      <td>1204.75</td>\n",
       "      <td>2129.5</td>\n",
       "      <td>3049.50</td>\n",
       "      <td>3998.0</td>\n",
       "    </tr>\n",
       "    <tr>\n",
       "      <th>BataryaOmru</th>\n",
       "      <td>2000.0</td>\n",
       "      <td>11.011000</td>\n",
       "      <td>5.463955</td>\n",
       "      <td>2.0</td>\n",
       "      <td>6.00</td>\n",
       "      <td>11.0</td>\n",
       "      <td>16.00</td>\n",
       "      <td>20.0</td>\n",
       "    </tr>\n",
       "  </tbody>\n",
       "</table>\n",
       "</div>"
      ],
      "text/plain": [
       "                      count         mean          std    min      25%     50%  \\\n",
       "BataryaGucu          2000.0  1238.518500   439.418206  501.0   851.75  1226.0   \n",
       "MikroislemciHizi     2000.0     1.522250     0.816004    0.5     0.70     1.5   \n",
       "OnKameraMP           1995.0     4.312281     4.342095    0.0     1.00     3.0   \n",
       "DahiliBellek         2000.0    32.046500    18.145715    2.0    16.00    32.0   \n",
       "Kalinlik             2000.0     0.501750     0.288416    0.1     0.20     0.5   \n",
       "Agirlik              2000.0   140.249000    35.399655   80.0   109.00   141.0   \n",
       "CekirdekSayisi       2000.0     4.520500     2.287837    1.0     3.00     4.0   \n",
       "ArkaKameraMP         2000.0     9.916500     6.064315    0.0     5.00    10.0   \n",
       "CozunurlukYükseklik  2000.0   645.108000   443.780811    0.0   282.75   564.0   \n",
       "CozunurlukGenislik   2000.0  1251.515500   432.199447  500.0   874.75  1247.0   \n",
       "RAM                  1988.0  2116.243964  1082.513059  256.0  1204.75  2129.5   \n",
       "BataryaOmru          2000.0    11.011000     5.463955    2.0     6.00    11.0   \n",
       "\n",
       "                         75%     max  \n",
       "BataryaGucu          1615.25  1998.0  \n",
       "MikroislemciHizi        2.20     3.0  \n",
       "OnKameraMP              7.00    19.0  \n",
       "DahiliBellek           48.00    64.0  \n",
       "Kalinlik                0.80     1.0  \n",
       "Agirlik               170.00   200.0  \n",
       "CekirdekSayisi          7.00     8.0  \n",
       "ArkaKameraMP           15.00    20.0  \n",
       "CozunurlukYükseklik   947.25  1960.0  \n",
       "CozunurlukGenislik   1633.00  1998.0  \n",
       "RAM                  3049.50  3998.0  \n",
       "BataryaOmru            16.00    20.0  "
      ]
     },
     "execution_count": 36,
     "metadata": {},
     "output_type": "execute_result"
    }
   ],
   "source": [
    "#betimsel istatistik özeti için describedan faydalanıyorum.\n",
    "df.describe().T"
   ]
  },
  {
   "cell_type": "code",
   "execution_count": null,
   "id": "c8eae001",
   "metadata": {},
   "outputs": [],
   "source": []
  },
  {
   "cell_type": "markdown",
   "id": "d4590b11",
   "metadata": {},
   "source": [
    "## X cat-num split"
   ]
  },
  {
   "cell_type": "code",
   "execution_count": 19,
   "id": "03e25689",
   "metadata": {},
   "outputs": [],
   "source": [
    "X= df"
   ]
  },
  {
   "cell_type": "code",
   "execution_count": 20,
   "id": "dc565d6e",
   "metadata": {},
   "outputs": [],
   "source": [
    "X_n= X[num_cols]\n",
    "X_o = X[cat_cols]"
   ]
  },
  {
   "cell_type": "code",
   "execution_count": null,
   "id": "feff99f9",
   "metadata": {},
   "outputs": [],
   "source": []
  },
  {
   "cell_type": "markdown",
   "id": "1d98d7aa",
   "metadata": {},
   "source": [
    "## Missing"
   ]
  },
  {
   "cell_type": "code",
   "execution_count": 76,
   "id": "bcb4ae2e",
   "metadata": {},
   "outputs": [],
   "source": [
    "#eksik verilerin adedini ve veri içindeki yüzdeliğine bakıyorum."
   ]
  },
  {
   "cell_type": "code",
   "execution_count": 77,
   "id": "83a79f66",
   "metadata": {},
   "outputs": [],
   "source": [
    "\n",
    "def missing_values_table(X_n):\n",
    "    mis_val = X_n.isnull().sum()\n",
    "    mis_val_percent = 100 * X_n.isnull().sum() / len(df)\n",
    "    mis_val_table = pd.concat([mis_val, mis_val_percent], axis=1)\n",
    "    mis_val_table_ren_columns = mis_val_table.rename(\n",
    "    columns = {0 : 'Missing Values', 1 : '% of Total Values'})\n",
    "    mis_val_table_ren_columns = mis_val_table_ren_columns[\n",
    "        mis_val_table_ren_columns.iloc[:,1] != 0].sort_values(\n",
    "    '% of Total Values', ascending=False).round(1)\n",
    "    print (\"Your selected dataframe has \" + str(X_n.shape[1]) + \" columns.\\n\"      \n",
    "        \"There are \" + str(mis_val_table_ren_columns.shape[0]) +\n",
    "            \" columns that have missing values.\")\n",
    "    return mis_val_table_ren_columns"
   ]
  },
  {
   "cell_type": "code",
   "execution_count": 78,
   "id": "51ce5bee",
   "metadata": {},
   "outputs": [
    {
     "name": "stdout",
     "output_type": "stream",
     "text": [
      "Your selected dataframe has 12 columns.\n",
      "There are 2 columns that have missing values.\n"
     ]
    },
    {
     "data": {
      "text/html": [
       "<div>\n",
       "<style scoped>\n",
       "    .dataframe tbody tr th:only-of-type {\n",
       "        vertical-align: middle;\n",
       "    }\n",
       "\n",
       "    .dataframe tbody tr th {\n",
       "        vertical-align: top;\n",
       "    }\n",
       "\n",
       "    .dataframe thead th {\n",
       "        text-align: right;\n",
       "    }\n",
       "</style>\n",
       "<table border=\"1\" class=\"dataframe\">\n",
       "  <thead>\n",
       "    <tr style=\"text-align: right;\">\n",
       "      <th></th>\n",
       "      <th>Missing Values</th>\n",
       "      <th>% of Total Values</th>\n",
       "    </tr>\n",
       "  </thead>\n",
       "  <tbody>\n",
       "    <tr>\n",
       "      <th>RAM</th>\n",
       "      <td>12</td>\n",
       "      <td>0.6</td>\n",
       "    </tr>\n",
       "    <tr>\n",
       "      <th>OnKameraMP</th>\n",
       "      <td>5</td>\n",
       "      <td>0.2</td>\n",
       "    </tr>\n",
       "  </tbody>\n",
       "</table>\n",
       "</div>"
      ],
      "text/plain": [
       "            Missing Values  % of Total Values\n",
       "RAM                     12                0.6\n",
       "OnKameraMP               5                0.2"
      ]
     },
     "execution_count": 78,
     "metadata": {},
     "output_type": "execute_result"
    }
   ],
   "source": [
    "missing_values_table(X_n)"
   ]
  },
  {
   "cell_type": "code",
   "execution_count": 79,
   "id": "33eab575",
   "metadata": {
    "scrolled": true
   },
   "outputs": [
    {
     "name": "stderr",
     "output_type": "stream",
     "text": [
      "<ipython-input-79-6cdf3b914501>:2: SettingWithCopyWarning: \n",
      "A value is trying to be set on a copy of a slice from a DataFrame.\n",
      "Try using .loc[row_indexer,col_indexer] = value instead\n",
      "\n",
      "See the caveats in the documentation: https://pandas.pydata.org/pandas-docs/stable/user_guide/indexing.html#returning-a-view-versus-a-copy\n",
      "  X_o[\"3G\"]=X_o[\"3G\"].fillna(\"others\")\n"
     ]
    },
    {
     "data": {
      "text/plain": [
       "Bluetooth       0\n",
       "CiftHat         0\n",
       "4G              0\n",
       "3G              0\n",
       "Dokunmatik      0\n",
       "WiFi            0\n",
       "FiyatAraligi    0\n",
       "Renk            0\n",
       "dtype: int64"
      ]
     },
     "execution_count": 79,
     "metadata": {},
     "output_type": "execute_result"
    }
   ],
   "source": [
    "#3G kategorik değişken olduğu için eksik verileri other olarak tanımlıyorum.\n",
    "X_o[\"3G\"]=X_o[\"3G\"].fillna(\"others\")\n",
    "X_o.isnull().sum()"
   ]
  },
  {
   "cell_type": "code",
   "execution_count": 80,
   "id": "5c077f9d",
   "metadata": {},
   "outputs": [
    {
     "name": "stderr",
     "output_type": "stream",
     "text": [
      "<ipython-input-80-377adbebd338>:3: SettingWithCopyWarning: \n",
      "A value is trying to be set on a copy of a slice from a DataFrame.\n",
      "Try using .loc[row_indexer,col_indexer] = value instead\n",
      "\n",
      "See the caveats in the documentation: https://pandas.pydata.org/pandas-docs/stable/user_guide/indexing.html#returning-a-view-versus-a-copy\n",
      "  X_n[\"OnKameraMP\"]= X_n[\"OnKameraMP\"].fillna(median)\n"
     ]
    }
   ],
   "source": [
    "#onkameramp eksik verileri numeric olduğu ve az eksik değer olduğu için median ile dolduruyorum.\n",
    "median= X_n[\"OnKameraMP\"].median()\n",
    "X_n[\"OnKameraMP\"]= X_n[\"OnKameraMP\"].fillna(median)"
   ]
  },
  {
   "cell_type": "code",
   "execution_count": 81,
   "id": "84606b83",
   "metadata": {},
   "outputs": [
    {
     "name": "stderr",
     "output_type": "stream",
     "text": [
      "<ipython-input-81-e3be3417594a>:3: SettingWithCopyWarning: \n",
      "A value is trying to be set on a copy of a slice from a DataFrame.\n",
      "Try using .loc[row_indexer,col_indexer] = value instead\n",
      "\n",
      "See the caveats in the documentation: https://pandas.pydata.org/pandas-docs/stable/user_guide/indexing.html#returning-a-view-versus-a-copy\n",
      "  X_n[\"RAM\"]=X_n[\"RAM\"].fillna(median1)\n"
     ]
    },
    {
     "data": {
      "text/plain": [
       "0"
      ]
     },
     "execution_count": 81,
     "metadata": {},
     "output_type": "execute_result"
    }
   ],
   "source": [
    "#ram eksik verileri numeric olduğu ve az veri olduğu için median ile dolduruyorum.\n",
    "median1= X_n[\"RAM\"].median()\n",
    "X_n[\"RAM\"]=X_n[\"RAM\"].fillna(median1)\n",
    "X_n[\"RAM\"].isnull().sum()"
   ]
  },
  {
   "cell_type": "code",
   "execution_count": 82,
   "id": "e90effb4",
   "metadata": {},
   "outputs": [
    {
     "data": {
      "text/plain": [
       "BataryaGucu            0\n",
       "MikroislemciHizi       0\n",
       "OnKameraMP             0\n",
       "DahiliBellek           0\n",
       "Kalinlik               0\n",
       "Agirlik                0\n",
       "CekirdekSayisi         0\n",
       "ArkaKameraMP           0\n",
       "CozunurlukYükseklik    0\n",
       "CozunurlukGenislik     0\n",
       "RAM                    0\n",
       "BataryaOmru            0\n",
       "dtype: int64"
      ]
     },
     "execution_count": 82,
     "metadata": {},
     "output_type": "execute_result"
    }
   ],
   "source": [
    "X_n.isnull().sum()\n"
   ]
  },
  {
   "cell_type": "markdown",
   "id": "909689dd",
   "metadata": {},
   "source": [
    "## Outlier"
   ]
  },
  {
   "cell_type": "code",
   "execution_count": 83,
   "id": "ed7590f7",
   "metadata": {},
   "outputs": [],
   "source": [
    "# iqr"
   ]
  },
  {
   "cell_type": "code",
   "execution_count": 84,
   "id": "714feace",
   "metadata": {},
   "outputs": [],
   "source": [
    "#aykırı değerleri satır bazında siliyorum.\n",
    "import seaborn as sns"
   ]
  },
  {
   "cell_type": "code",
   "execution_count": 85,
   "id": "198c71a4",
   "metadata": {},
   "outputs": [
    {
     "data": {
      "text/plain": [
       "BataryaGucu            False\n",
       "MikroislemciHizi       False\n",
       "OnKameraMP             False\n",
       "DahiliBellek           False\n",
       "Kalinlik               False\n",
       "Agirlik                False\n",
       "CekirdekSayisi         False\n",
       "ArkaKameraMP           False\n",
       "CozunurlukYükseklik    False\n",
       "CozunurlukGenislik     False\n",
       "RAM                    False\n",
       "BataryaOmru            False\n",
       "dtype: bool"
      ]
     },
     "execution_count": 85,
     "metadata": {},
     "output_type": "execute_result"
    }
   ],
   "source": [
    "X_n.isnull().any()"
   ]
  },
  {
   "cell_type": "code",
   "execution_count": 21,
   "id": "c0002dc6",
   "metadata": {
    "scrolled": true
   },
   "outputs": [],
   "source": [
    "#X_n\n",
    "#iqr = (np.quantile(X_n, 0.75))-(np.quantile(X_n, 0.25))\n",
    "#np.quantile(X_n, 0.75)+(1.5*iqr)"
   ]
  },
  {
   "cell_type": "code",
   "execution_count": 87,
   "id": "7b2fdb0a",
   "metadata": {},
   "outputs": [
    {
     "data": {
      "text/plain": [
       "(2000, 12)"
      ]
     },
     "execution_count": 87,
     "metadata": {},
     "output_type": "execute_result"
    }
   ],
   "source": [
    "X_n.shape"
   ]
  },
  {
   "cell_type": "code",
   "execution_count": 88,
   "id": "9bf4170d",
   "metadata": {},
   "outputs": [],
   "source": [
    "Q1 = X_n.quantile(0.25)\n",
    "Q3 = X_n.quantile(0.75)\n",
    "IQR = Q3 - Q1\n",
    "\n",
    "X_n = X_n[~((X_n <\n",
    "                         (Q1 - 1.5 * IQR)) | (X_n >\n",
    "                                              (Q3 + 1.5 * IQR)))]\n",
    "#.any(axis=1)"
   ]
  },
  {
   "cell_type": "code",
   "execution_count": 89,
   "id": "e326c103",
   "metadata": {},
   "outputs": [
    {
     "data": {
      "text/plain": [
       "BataryaGucu             0\n",
       "MikroislemciHizi        0\n",
       "OnKameraMP             18\n",
       "DahiliBellek            0\n",
       "Kalinlik                0\n",
       "Agirlik                 0\n",
       "CekirdekSayisi          0\n",
       "ArkaKameraMP            0\n",
       "CozunurlukYükseklik     2\n",
       "CozunurlukGenislik      0\n",
       "RAM                     0\n",
       "BataryaOmru             0\n",
       "dtype: int64"
      ]
     },
     "execution_count": 89,
     "metadata": {},
     "output_type": "execute_result"
    }
   ],
   "source": [
    "X_n.isnull().sum()"
   ]
  },
  {
   "cell_type": "code",
   "execution_count": 90,
   "id": "e79e721a",
   "metadata": {},
   "outputs": [],
   "source": [
    "#aykırı değerleri boş veri olarak döndürüp bu verileri satır bazında sildim.\n",
    "removed_index= X_n[X_n['OnKameraMP'].isnull()].index.tolist()\n",
    "removed_index += X_n[X_n['CozunurlukYükseklik'].isnull()].index.tolist()"
   ]
  },
  {
   "cell_type": "code",
   "execution_count": 91,
   "id": "dfc2dbe1",
   "metadata": {},
   "outputs": [
    {
     "data": {
      "text/plain": [
       "[246,\n",
       " 397,\n",
       " 401,\n",
       " 513,\n",
       " 642,\n",
       " 661,\n",
       " 867,\n",
       " 896,\n",
       " 920,\n",
       " 975,\n",
       " 1048,\n",
       " 1103,\n",
       " 1126,\n",
       " 1364,\n",
       " 1459,\n",
       " 1684,\n",
       " 1740,\n",
       " 1817,\n",
       " 1115,\n",
       " 1820]"
      ]
     },
     "execution_count": 91,
     "metadata": {},
     "output_type": "execute_result"
    }
   ],
   "source": [
    "removed_index"
   ]
  },
  {
   "cell_type": "code",
   "execution_count": 92,
   "id": "4a95a49e",
   "metadata": {},
   "outputs": [],
   "source": [
    "X_n= X_n.drop(removed_index)\n",
    "X_o= X_o.drop(removed_index)"
   ]
  },
  {
   "cell_type": "code",
   "execution_count": 93,
   "id": "c6520d57",
   "metadata": {},
   "outputs": [
    {
     "data": {
      "text/html": [
       "<div>\n",
       "<style scoped>\n",
       "    .dataframe tbody tr th:only-of-type {\n",
       "        vertical-align: middle;\n",
       "    }\n",
       "\n",
       "    .dataframe tbody tr th {\n",
       "        vertical-align: top;\n",
       "    }\n",
       "\n",
       "    .dataframe thead th {\n",
       "        text-align: right;\n",
       "    }\n",
       "</style>\n",
       "<table border=\"1\" class=\"dataframe\">\n",
       "  <thead>\n",
       "    <tr style=\"text-align: right;\">\n",
       "      <th></th>\n",
       "      <th>BataryaGucu</th>\n",
       "      <th>MikroislemciHizi</th>\n",
       "      <th>OnKameraMP</th>\n",
       "      <th>DahiliBellek</th>\n",
       "      <th>Kalinlik</th>\n",
       "      <th>Agirlik</th>\n",
       "      <th>CekirdekSayisi</th>\n",
       "      <th>ArkaKameraMP</th>\n",
       "      <th>CozunurlukYükseklik</th>\n",
       "      <th>CozunurlukGenislik</th>\n",
       "      <th>RAM</th>\n",
       "      <th>BataryaOmru</th>\n",
       "    </tr>\n",
       "  </thead>\n",
       "  <tbody>\n",
       "    <tr>\n",
       "      <th>0</th>\n",
       "      <td>1325</td>\n",
       "      <td>1.9</td>\n",
       "      <td>2.0</td>\n",
       "      <td>50</td>\n",
       "      <td>0.1</td>\n",
       "      <td>146</td>\n",
       "      <td>1</td>\n",
       "      <td>10</td>\n",
       "      <td>499.0</td>\n",
       "      <td>695</td>\n",
       "      <td>2328.0</td>\n",
       "      <td>2</td>\n",
       "    </tr>\n",
       "    <tr>\n",
       "      <th>1</th>\n",
       "      <td>1046</td>\n",
       "      <td>2.8</td>\n",
       "      <td>0.0</td>\n",
       "      <td>58</td>\n",
       "      <td>0.2</td>\n",
       "      <td>100</td>\n",
       "      <td>8</td>\n",
       "      <td>0</td>\n",
       "      <td>259.0</td>\n",
       "      <td>1040</td>\n",
       "      <td>3863.0</td>\n",
       "      <td>9</td>\n",
       "    </tr>\n",
       "    <tr>\n",
       "      <th>2</th>\n",
       "      <td>843</td>\n",
       "      <td>1.3</td>\n",
       "      <td>1.0</td>\n",
       "      <td>16</td>\n",
       "      <td>0.9</td>\n",
       "      <td>119</td>\n",
       "      <td>7</td>\n",
       "      <td>4</td>\n",
       "      <td>593.0</td>\n",
       "      <td>732</td>\n",
       "      <td>1734.0</td>\n",
       "      <td>14</td>\n",
       "    </tr>\n",
       "    <tr>\n",
       "      <th>3</th>\n",
       "      <td>894</td>\n",
       "      <td>0.5</td>\n",
       "      <td>1.0</td>\n",
       "      <td>50</td>\n",
       "      <td>0.5</td>\n",
       "      <td>199</td>\n",
       "      <td>3</td>\n",
       "      <td>14</td>\n",
       "      <td>1285.0</td>\n",
       "      <td>1462</td>\n",
       "      <td>3615.0</td>\n",
       "      <td>6</td>\n",
       "    </tr>\n",
       "    <tr>\n",
       "      <th>4</th>\n",
       "      <td>936</td>\n",
       "      <td>1.0</td>\n",
       "      <td>1.0</td>\n",
       "      <td>18</td>\n",
       "      <td>0.2</td>\n",
       "      <td>153</td>\n",
       "      <td>3</td>\n",
       "      <td>18</td>\n",
       "      <td>1330.0</td>\n",
       "      <td>1686</td>\n",
       "      <td>2391.0</td>\n",
       "      <td>3</td>\n",
       "    </tr>\n",
       "    <tr>\n",
       "      <th>...</th>\n",
       "      <td>...</td>\n",
       "      <td>...</td>\n",
       "      <td>...</td>\n",
       "      <td>...</td>\n",
       "      <td>...</td>\n",
       "      <td>...</td>\n",
       "      <td>...</td>\n",
       "      <td>...</td>\n",
       "      <td>...</td>\n",
       "      <td>...</td>\n",
       "      <td>...</td>\n",
       "      <td>...</td>\n",
       "    </tr>\n",
       "    <tr>\n",
       "      <th>1995</th>\n",
       "      <td>689</td>\n",
       "      <td>2.9</td>\n",
       "      <td>3.0</td>\n",
       "      <td>7</td>\n",
       "      <td>0.8</td>\n",
       "      <td>147</td>\n",
       "      <td>2</td>\n",
       "      <td>6</td>\n",
       "      <td>487.0</td>\n",
       "      <td>722</td>\n",
       "      <td>1241.0</td>\n",
       "      <td>16</td>\n",
       "    </tr>\n",
       "    <tr>\n",
       "      <th>1996</th>\n",
       "      <td>1654</td>\n",
       "      <td>1.8</td>\n",
       "      <td>1.0</td>\n",
       "      <td>11</td>\n",
       "      <td>0.3</td>\n",
       "      <td>146</td>\n",
       "      <td>7</td>\n",
       "      <td>2</td>\n",
       "      <td>1184.0</td>\n",
       "      <td>1719</td>\n",
       "      <td>1070.0</td>\n",
       "      <td>14</td>\n",
       "    </tr>\n",
       "    <tr>\n",
       "      <th>1997</th>\n",
       "      <td>742</td>\n",
       "      <td>2.2</td>\n",
       "      <td>4.0</td>\n",
       "      <td>56</td>\n",
       "      <td>0.2</td>\n",
       "      <td>190</td>\n",
       "      <td>7</td>\n",
       "      <td>14</td>\n",
       "      <td>577.0</td>\n",
       "      <td>1359</td>\n",
       "      <td>3557.0</td>\n",
       "      <td>12</td>\n",
       "    </tr>\n",
       "    <tr>\n",
       "      <th>1998</th>\n",
       "      <td>704</td>\n",
       "      <td>2.2</td>\n",
       "      <td>4.0</td>\n",
       "      <td>53</td>\n",
       "      <td>0.2</td>\n",
       "      <td>186</td>\n",
       "      <td>6</td>\n",
       "      <td>6</td>\n",
       "      <td>251.0</td>\n",
       "      <td>1013</td>\n",
       "      <td>3653.0</td>\n",
       "      <td>15</td>\n",
       "    </tr>\n",
       "    <tr>\n",
       "      <th>1999</th>\n",
       "      <td>1872</td>\n",
       "      <td>0.5</td>\n",
       "      <td>5.0</td>\n",
       "      <td>26</td>\n",
       "      <td>0.5</td>\n",
       "      <td>172</td>\n",
       "      <td>4</td>\n",
       "      <td>10</td>\n",
       "      <td>672.0</td>\n",
       "      <td>1088</td>\n",
       "      <td>2273.0</td>\n",
       "      <td>8</td>\n",
       "    </tr>\n",
       "  </tbody>\n",
       "</table>\n",
       "<p>1980 rows × 12 columns</p>\n",
       "</div>"
      ],
      "text/plain": [
       "      BataryaGucu  MikroislemciHizi  OnKameraMP  DahiliBellek  Kalinlik  \\\n",
       "0            1325               1.9         2.0            50       0.1   \n",
       "1            1046               2.8         0.0            58       0.2   \n",
       "2             843               1.3         1.0            16       0.9   \n",
       "3             894               0.5         1.0            50       0.5   \n",
       "4             936               1.0         1.0            18       0.2   \n",
       "...           ...               ...         ...           ...       ...   \n",
       "1995          689               2.9         3.0             7       0.8   \n",
       "1996         1654               1.8         1.0            11       0.3   \n",
       "1997          742               2.2         4.0            56       0.2   \n",
       "1998          704               2.2         4.0            53       0.2   \n",
       "1999         1872               0.5         5.0            26       0.5   \n",
       "\n",
       "      Agirlik  CekirdekSayisi  ArkaKameraMP  CozunurlukYükseklik  \\\n",
       "0         146               1            10                499.0   \n",
       "1         100               8             0                259.0   \n",
       "2         119               7             4                593.0   \n",
       "3         199               3            14               1285.0   \n",
       "4         153               3            18               1330.0   \n",
       "...       ...             ...           ...                  ...   \n",
       "1995      147               2             6                487.0   \n",
       "1996      146               7             2               1184.0   \n",
       "1997      190               7            14                577.0   \n",
       "1998      186               6             6                251.0   \n",
       "1999      172               4            10                672.0   \n",
       "\n",
       "      CozunurlukGenislik     RAM  BataryaOmru  \n",
       "0                    695  2328.0            2  \n",
       "1                   1040  3863.0            9  \n",
       "2                    732  1734.0           14  \n",
       "3                   1462  3615.0            6  \n",
       "4                   1686  2391.0            3  \n",
       "...                  ...     ...          ...  \n",
       "1995                 722  1241.0           16  \n",
       "1996                1719  1070.0           14  \n",
       "1997                1359  3557.0           12  \n",
       "1998                1013  3653.0           15  \n",
       "1999                1088  2273.0            8  \n",
       "\n",
       "[1980 rows x 12 columns]"
      ]
     },
     "execution_count": 93,
     "metadata": {},
     "output_type": "execute_result"
    }
   ],
   "source": [
    "X_n"
   ]
  },
  {
   "cell_type": "markdown",
   "id": "1123c012",
   "metadata": {},
   "source": [
    "## Target"
   ]
  },
  {
   "cell_type": "code",
   "execution_count": 94,
   "id": "26896cc7",
   "metadata": {},
   "outputs": [],
   "source": [
    "from sklearn.preprocessing import OneHotEncoder \n",
    "from sklearn.preprocessing import LabelEncoder"
   ]
  },
  {
   "cell_type": "code",
   "execution_count": 95,
   "id": "1767871c",
   "metadata": {},
   "outputs": [],
   "source": [
    "#bağımlı değişkeni ayırıyorum.\n",
    "target = X_o[\"FiyatAraligi\"]"
   ]
  },
  {
   "cell_type": "code",
   "execution_count": 96,
   "id": "8098387e",
   "metadata": {},
   "outputs": [],
   "source": [
    "X_o.drop(\"FiyatAraligi\", axis=1, inplace=True)"
   ]
  },
  {
   "cell_type": "code",
   "execution_count": 97,
   "id": "a795128c",
   "metadata": {},
   "outputs": [
    {
     "data": {
      "text/html": [
       "<div>\n",
       "<style scoped>\n",
       "    .dataframe tbody tr th:only-of-type {\n",
       "        vertical-align: middle;\n",
       "    }\n",
       "\n",
       "    .dataframe tbody tr th {\n",
       "        vertical-align: top;\n",
       "    }\n",
       "\n",
       "    .dataframe thead th {\n",
       "        text-align: right;\n",
       "    }\n",
       "</style>\n",
       "<table border=\"1\" class=\"dataframe\">\n",
       "  <thead>\n",
       "    <tr style=\"text-align: right;\">\n",
       "      <th></th>\n",
       "      <th>Bluetooth</th>\n",
       "      <th>CiftHat</th>\n",
       "      <th>4G</th>\n",
       "      <th>3G</th>\n",
       "      <th>Dokunmatik</th>\n",
       "      <th>WiFi</th>\n",
       "      <th>Renk</th>\n",
       "    </tr>\n",
       "  </thead>\n",
       "  <tbody>\n",
       "    <tr>\n",
       "      <th>0</th>\n",
       "      <td>Yok</td>\n",
       "      <td>Yok</td>\n",
       "      <td>Yok</td>\n",
       "      <td>Var</td>\n",
       "      <td>Yok</td>\n",
       "      <td>Yok</td>\n",
       "      <td>Beyaz</td>\n",
       "    </tr>\n",
       "    <tr>\n",
       "      <th>1</th>\n",
       "      <td>Var</td>\n",
       "      <td>Var</td>\n",
       "      <td>Var</td>\n",
       "      <td>Var</td>\n",
       "      <td>Var</td>\n",
       "      <td>Var</td>\n",
       "      <td>Pembe</td>\n",
       "    </tr>\n",
       "    <tr>\n",
       "      <th>2</th>\n",
       "      <td>Yok</td>\n",
       "      <td>Var</td>\n",
       "      <td>Yok</td>\n",
       "      <td>Yok</td>\n",
       "      <td>Yok</td>\n",
       "      <td>Var</td>\n",
       "      <td>Mor</td>\n",
       "    </tr>\n",
       "    <tr>\n",
       "      <th>3</th>\n",
       "      <td>Yok</td>\n",
       "      <td>Var</td>\n",
       "      <td>Var</td>\n",
       "      <td>Var</td>\n",
       "      <td>Yok</td>\n",
       "      <td>Var</td>\n",
       "      <td>Turuncu</td>\n",
       "    </tr>\n",
       "    <tr>\n",
       "      <th>4</th>\n",
       "      <td>Yok</td>\n",
       "      <td>Yok</td>\n",
       "      <td>Yok</td>\n",
       "      <td>Var</td>\n",
       "      <td>Var</td>\n",
       "      <td>Var</td>\n",
       "      <td>Beyaz</td>\n",
       "    </tr>\n",
       "    <tr>\n",
       "      <th>...</th>\n",
       "      <td>...</td>\n",
       "      <td>...</td>\n",
       "      <td>...</td>\n",
       "      <td>...</td>\n",
       "      <td>...</td>\n",
       "      <td>...</td>\n",
       "      <td>...</td>\n",
       "    </tr>\n",
       "    <tr>\n",
       "      <th>1995</th>\n",
       "      <td>Yok</td>\n",
       "      <td>Var</td>\n",
       "      <td>Var</td>\n",
       "      <td>Var</td>\n",
       "      <td>Yok</td>\n",
       "      <td>Yok</td>\n",
       "      <td>Siyah</td>\n",
       "    </tr>\n",
       "    <tr>\n",
       "      <th>1996</th>\n",
       "      <td>Yok</td>\n",
       "      <td>Yok</td>\n",
       "      <td>Yok</td>\n",
       "      <td>Var</td>\n",
       "      <td>Var</td>\n",
       "      <td>Var</td>\n",
       "      <td>Sarı</td>\n",
       "    </tr>\n",
       "    <tr>\n",
       "      <th>1997</th>\n",
       "      <td>Yok</td>\n",
       "      <td>Var</td>\n",
       "      <td>Yok</td>\n",
       "      <td>Yok</td>\n",
       "      <td>Var</td>\n",
       "      <td>Var</td>\n",
       "      <td>Turuncu</td>\n",
       "    </tr>\n",
       "    <tr>\n",
       "      <th>1998</th>\n",
       "      <td>Yok</td>\n",
       "      <td>Var</td>\n",
       "      <td>Yok</td>\n",
       "      <td>Var</td>\n",
       "      <td>Var</td>\n",
       "      <td>Var</td>\n",
       "      <td>Turkuaz</td>\n",
       "    </tr>\n",
       "    <tr>\n",
       "      <th>1999</th>\n",
       "      <td>Yok</td>\n",
       "      <td>Yok</td>\n",
       "      <td>Var</td>\n",
       "      <td>Var</td>\n",
       "      <td>Yok</td>\n",
       "      <td>Var</td>\n",
       "      <td>Siyah</td>\n",
       "    </tr>\n",
       "  </tbody>\n",
       "</table>\n",
       "<p>1980 rows × 7 columns</p>\n",
       "</div>"
      ],
      "text/plain": [
       "     Bluetooth CiftHat   4G   3G Dokunmatik WiFi     Renk\n",
       "0          Yok     Yok  Yok  Var        Yok  Yok    Beyaz\n",
       "1          Var     Var  Var  Var        Var  Var    Pembe\n",
       "2          Yok     Var  Yok  Yok        Yok  Var      Mor\n",
       "3          Yok     Var  Var  Var        Yok  Var  Turuncu\n",
       "4          Yok     Yok  Yok  Var        Var  Var    Beyaz\n",
       "...        ...     ...  ...  ...        ...  ...      ...\n",
       "1995       Yok     Var  Var  Var        Yok  Yok    Siyah\n",
       "1996       Yok     Yok  Yok  Var        Var  Var     Sarı\n",
       "1997       Yok     Var  Yok  Yok        Var  Var  Turuncu\n",
       "1998       Yok     Var  Yok  Var        Var  Var  Turkuaz\n",
       "1999       Yok     Yok  Var  Var        Yok  Var    Siyah\n",
       "\n",
       "[1980 rows x 7 columns]"
      ]
     },
     "execution_count": 97,
     "metadata": {},
     "output_type": "execute_result"
    }
   ],
   "source": [
    "X_o"
   ]
  },
  {
   "cell_type": "code",
   "execution_count": 98,
   "id": "ee85e377",
   "metadata": {},
   "outputs": [
    {
     "data": {
      "text/plain": [
       "BataryaGucu              int64\n",
       "MikroislemciHizi       float64\n",
       "OnKameraMP             float64\n",
       "DahiliBellek             int64\n",
       "Kalinlik               float64\n",
       "Agirlik                  int64\n",
       "CekirdekSayisi           int64\n",
       "ArkaKameraMP             int64\n",
       "CozunurlukYükseklik    float64\n",
       "CozunurlukGenislik       int64\n",
       "RAM                    float64\n",
       "BataryaOmru              int64\n",
       "dtype: object"
      ]
     },
     "execution_count": 98,
     "metadata": {},
     "output_type": "execute_result"
    }
   ],
   "source": [
    "X_n.dtypes"
   ]
  },
  {
   "cell_type": "code",
   "execution_count": 99,
   "id": "84154f85",
   "metadata": {},
   "outputs": [
    {
     "data": {
      "text/plain": [
       "0"
      ]
     },
     "execution_count": 99,
     "metadata": {},
     "output_type": "execute_result"
    }
   ],
   "source": [
    "X_n.dtypes.isnull().sum()"
   ]
  },
  {
   "cell_type": "markdown",
   "id": "900d8f8d",
   "metadata": {},
   "source": [
    "## Correlation"
   ]
  },
  {
   "cell_type": "code",
   "execution_count": 100,
   "id": "d996ba35",
   "metadata": {},
   "outputs": [],
   "source": [
    "# kategorik -- cramers\n",
    "# numeric -- pearsons"
   ]
  },
  {
   "cell_type": "markdown",
   "id": "4d6025a2",
   "metadata": {},
   "source": [
    "cramer’s V korelasyon katsayısı 0 ile 1 arasında değerler alır. Katsayı değerinin 0 olması iki değişken arasında ilişki olmadığını, 1 olması ise kusursuz/mükemmel bir ilişki olduğunu gösterir. Katsayı değeri arttıkça, ilişki güçlenir"
   ]
  },
  {
   "cell_type": "code",
   "execution_count": 101,
   "id": "37570114",
   "metadata": {},
   "outputs": [],
   "source": [
    "from scipy import stats"
   ]
  },
  {
   "cell_type": "code",
   "execution_count": 102,
   "id": "d8cab1ec",
   "metadata": {},
   "outputs": [],
   "source": [
    "#pandas profileden 4G ile 3G arasında yüksek korelasyon olduğunu gördüm.\n",
    "#4G varsa zaten 3G de vardır diyerek 3G yi sildim.\n",
    "X_o.drop('3G',\n",
    "  axis='columns', inplace=True)"
   ]
  },
  {
   "cell_type": "code",
   "execution_count": 103,
   "id": "9f9cd9b1",
   "metadata": {},
   "outputs": [
    {
     "data": {
      "text/html": [
       "<div>\n",
       "<style scoped>\n",
       "    .dataframe tbody tr th:only-of-type {\n",
       "        vertical-align: middle;\n",
       "    }\n",
       "\n",
       "    .dataframe tbody tr th {\n",
       "        vertical-align: top;\n",
       "    }\n",
       "\n",
       "    .dataframe thead th {\n",
       "        text-align: right;\n",
       "    }\n",
       "</style>\n",
       "<table border=\"1\" class=\"dataframe\">\n",
       "  <thead>\n",
       "    <tr style=\"text-align: right;\">\n",
       "      <th></th>\n",
       "      <th>Bluetooth</th>\n",
       "      <th>CiftHat</th>\n",
       "      <th>4G</th>\n",
       "      <th>Dokunmatik</th>\n",
       "      <th>WiFi</th>\n",
       "      <th>Renk</th>\n",
       "    </tr>\n",
       "  </thead>\n",
       "  <tbody>\n",
       "    <tr>\n",
       "      <th>0</th>\n",
       "      <td>Yok</td>\n",
       "      <td>Yok</td>\n",
       "      <td>Yok</td>\n",
       "      <td>Yok</td>\n",
       "      <td>Yok</td>\n",
       "      <td>Beyaz</td>\n",
       "    </tr>\n",
       "    <tr>\n",
       "      <th>1</th>\n",
       "      <td>Var</td>\n",
       "      <td>Var</td>\n",
       "      <td>Var</td>\n",
       "      <td>Var</td>\n",
       "      <td>Var</td>\n",
       "      <td>Pembe</td>\n",
       "    </tr>\n",
       "    <tr>\n",
       "      <th>2</th>\n",
       "      <td>Yok</td>\n",
       "      <td>Var</td>\n",
       "      <td>Yok</td>\n",
       "      <td>Yok</td>\n",
       "      <td>Var</td>\n",
       "      <td>Mor</td>\n",
       "    </tr>\n",
       "    <tr>\n",
       "      <th>3</th>\n",
       "      <td>Yok</td>\n",
       "      <td>Var</td>\n",
       "      <td>Var</td>\n",
       "      <td>Yok</td>\n",
       "      <td>Var</td>\n",
       "      <td>Turuncu</td>\n",
       "    </tr>\n",
       "    <tr>\n",
       "      <th>4</th>\n",
       "      <td>Yok</td>\n",
       "      <td>Yok</td>\n",
       "      <td>Yok</td>\n",
       "      <td>Var</td>\n",
       "      <td>Var</td>\n",
       "      <td>Beyaz</td>\n",
       "    </tr>\n",
       "    <tr>\n",
       "      <th>...</th>\n",
       "      <td>...</td>\n",
       "      <td>...</td>\n",
       "      <td>...</td>\n",
       "      <td>...</td>\n",
       "      <td>...</td>\n",
       "      <td>...</td>\n",
       "    </tr>\n",
       "    <tr>\n",
       "      <th>1995</th>\n",
       "      <td>Yok</td>\n",
       "      <td>Var</td>\n",
       "      <td>Var</td>\n",
       "      <td>Yok</td>\n",
       "      <td>Yok</td>\n",
       "      <td>Siyah</td>\n",
       "    </tr>\n",
       "    <tr>\n",
       "      <th>1996</th>\n",
       "      <td>Yok</td>\n",
       "      <td>Yok</td>\n",
       "      <td>Yok</td>\n",
       "      <td>Var</td>\n",
       "      <td>Var</td>\n",
       "      <td>Sarı</td>\n",
       "    </tr>\n",
       "    <tr>\n",
       "      <th>1997</th>\n",
       "      <td>Yok</td>\n",
       "      <td>Var</td>\n",
       "      <td>Yok</td>\n",
       "      <td>Var</td>\n",
       "      <td>Var</td>\n",
       "      <td>Turuncu</td>\n",
       "    </tr>\n",
       "    <tr>\n",
       "      <th>1998</th>\n",
       "      <td>Yok</td>\n",
       "      <td>Var</td>\n",
       "      <td>Yok</td>\n",
       "      <td>Var</td>\n",
       "      <td>Var</td>\n",
       "      <td>Turkuaz</td>\n",
       "    </tr>\n",
       "    <tr>\n",
       "      <th>1999</th>\n",
       "      <td>Yok</td>\n",
       "      <td>Yok</td>\n",
       "      <td>Var</td>\n",
       "      <td>Yok</td>\n",
       "      <td>Var</td>\n",
       "      <td>Siyah</td>\n",
       "    </tr>\n",
       "  </tbody>\n",
       "</table>\n",
       "<p>1980 rows × 6 columns</p>\n",
       "</div>"
      ],
      "text/plain": [
       "     Bluetooth CiftHat   4G Dokunmatik WiFi     Renk\n",
       "0          Yok     Yok  Yok        Yok  Yok    Beyaz\n",
       "1          Var     Var  Var        Var  Var    Pembe\n",
       "2          Yok     Var  Yok        Yok  Var      Mor\n",
       "3          Yok     Var  Var        Yok  Var  Turuncu\n",
       "4          Yok     Yok  Yok        Var  Var    Beyaz\n",
       "...        ...     ...  ...        ...  ...      ...\n",
       "1995       Yok     Var  Var        Yok  Yok    Siyah\n",
       "1996       Yok     Yok  Yok        Var  Var     Sarı\n",
       "1997       Yok     Var  Yok        Var  Var  Turuncu\n",
       "1998       Yok     Var  Yok        Var  Var  Turkuaz\n",
       "1999       Yok     Yok  Var        Yok  Var    Siyah\n",
       "\n",
       "[1980 rows x 6 columns]"
      ]
     },
     "execution_count": 103,
     "metadata": {},
     "output_type": "execute_result"
    }
   ],
   "source": [
    "X_o"
   ]
  },
  {
   "cell_type": "code",
   "execution_count": 104,
   "id": "389fe671",
   "metadata": {},
   "outputs": [],
   "source": [
    "#pearson\n",
    "# değer silmeyeceğim"
   ]
  },
  {
   "cell_type": "markdown",
   "id": "51511d0b",
   "metadata": {},
   "source": [
    "## Encode"
   ]
  },
  {
   "cell_type": "code",
   "execution_count": 105,
   "id": "890581b2",
   "metadata": {
    "scrolled": true
   },
   "outputs": [
    {
     "data": {
      "text/html": [
       "<div>\n",
       "<style scoped>\n",
       "    .dataframe tbody tr th:only-of-type {\n",
       "        vertical-align: middle;\n",
       "    }\n",
       "\n",
       "    .dataframe tbody tr th {\n",
       "        vertical-align: top;\n",
       "    }\n",
       "\n",
       "    .dataframe thead th {\n",
       "        text-align: right;\n",
       "    }\n",
       "</style>\n",
       "<table border=\"1\" class=\"dataframe\">\n",
       "  <thead>\n",
       "    <tr style=\"text-align: right;\">\n",
       "      <th></th>\n",
       "      <th>Bluetooth</th>\n",
       "      <th>CiftHat</th>\n",
       "      <th>4G</th>\n",
       "      <th>Dokunmatik</th>\n",
       "      <th>WiFi</th>\n",
       "      <th>Renk</th>\n",
       "    </tr>\n",
       "  </thead>\n",
       "  <tbody>\n",
       "    <tr>\n",
       "      <th>0</th>\n",
       "      <td>Yok</td>\n",
       "      <td>Yok</td>\n",
       "      <td>Yok</td>\n",
       "      <td>Yok</td>\n",
       "      <td>Yok</td>\n",
       "      <td>Beyaz</td>\n",
       "    </tr>\n",
       "    <tr>\n",
       "      <th>1</th>\n",
       "      <td>Var</td>\n",
       "      <td>Var</td>\n",
       "      <td>Var</td>\n",
       "      <td>Var</td>\n",
       "      <td>Var</td>\n",
       "      <td>Pembe</td>\n",
       "    </tr>\n",
       "    <tr>\n",
       "      <th>2</th>\n",
       "      <td>Yok</td>\n",
       "      <td>Var</td>\n",
       "      <td>Yok</td>\n",
       "      <td>Yok</td>\n",
       "      <td>Var</td>\n",
       "      <td>Mor</td>\n",
       "    </tr>\n",
       "    <tr>\n",
       "      <th>3</th>\n",
       "      <td>Yok</td>\n",
       "      <td>Var</td>\n",
       "      <td>Var</td>\n",
       "      <td>Yok</td>\n",
       "      <td>Var</td>\n",
       "      <td>Turuncu</td>\n",
       "    </tr>\n",
       "    <tr>\n",
       "      <th>4</th>\n",
       "      <td>Yok</td>\n",
       "      <td>Yok</td>\n",
       "      <td>Yok</td>\n",
       "      <td>Var</td>\n",
       "      <td>Var</td>\n",
       "      <td>Beyaz</td>\n",
       "    </tr>\n",
       "  </tbody>\n",
       "</table>\n",
       "</div>"
      ],
      "text/plain": [
       "  Bluetooth CiftHat   4G Dokunmatik WiFi     Renk\n",
       "0       Yok     Yok  Yok        Yok  Yok    Beyaz\n",
       "1       Var     Var  Var        Var  Var    Pembe\n",
       "2       Yok     Var  Yok        Yok  Var      Mor\n",
       "3       Yok     Var  Var        Yok  Var  Turuncu\n",
       "4       Yok     Yok  Yok        Var  Var    Beyaz"
      ]
     },
     "execution_count": 105,
     "metadata": {},
     "output_type": "execute_result"
    }
   ],
   "source": [
    "X_o.head()"
   ]
  },
  {
   "cell_type": "code",
   "execution_count": 106,
   "id": "3e67b31c",
   "metadata": {},
   "outputs": [
    {
     "data": {
      "text/plain": [
       "12"
      ]
     },
     "execution_count": 106,
     "metadata": {},
     "output_type": "execute_result"
    }
   ],
   "source": [
    "X_o[\"Renk\"].nunique()"
   ]
  },
  {
   "cell_type": "code",
   "execution_count": 108,
   "id": "d1abb518",
   "metadata": {},
   "outputs": [
    {
     "data": {
      "text/html": [
       "<div>\n",
       "<style scoped>\n",
       "    .dataframe tbody tr th:only-of-type {\n",
       "        vertical-align: middle;\n",
       "    }\n",
       "\n",
       "    .dataframe tbody tr th {\n",
       "        vertical-align: top;\n",
       "    }\n",
       "\n",
       "    .dataframe thead th {\n",
       "        text-align: right;\n",
       "    }\n",
       "</style>\n",
       "<table border=\"1\" class=\"dataframe\">\n",
       "  <thead>\n",
       "    <tr style=\"text-align: right;\">\n",
       "      <th></th>\n",
       "      <th>Bluetooth</th>\n",
       "      <th>CiftHat</th>\n",
       "      <th>4G</th>\n",
       "      <th>Dokunmatik</th>\n",
       "      <th>WiFi</th>\n",
       "      <th>Renk</th>\n",
       "    </tr>\n",
       "  </thead>\n",
       "  <tbody>\n",
       "    <tr>\n",
       "      <th>0</th>\n",
       "      <td>2</td>\n",
       "      <td>1</td>\n",
       "      <td>1</td>\n",
       "      <td>1</td>\n",
       "      <td>1</td>\n",
       "      <td>0</td>\n",
       "    </tr>\n",
       "    <tr>\n",
       "      <th>1</th>\n",
       "      <td>1</td>\n",
       "      <td>0</td>\n",
       "      <td>0</td>\n",
       "      <td>0</td>\n",
       "      <td>0</td>\n",
       "      <td>6</td>\n",
       "    </tr>\n",
       "    <tr>\n",
       "      <th>2</th>\n",
       "      <td>2</td>\n",
       "      <td>0</td>\n",
       "      <td>1</td>\n",
       "      <td>1</td>\n",
       "      <td>0</td>\n",
       "      <td>5</td>\n",
       "    </tr>\n",
       "    <tr>\n",
       "      <th>3</th>\n",
       "      <td>2</td>\n",
       "      <td>0</td>\n",
       "      <td>0</td>\n",
       "      <td>1</td>\n",
       "      <td>0</td>\n",
       "      <td>10</td>\n",
       "    </tr>\n",
       "    <tr>\n",
       "      <th>4</th>\n",
       "      <td>2</td>\n",
       "      <td>1</td>\n",
       "      <td>1</td>\n",
       "      <td>0</td>\n",
       "      <td>0</td>\n",
       "      <td>0</td>\n",
       "    </tr>\n",
       "  </tbody>\n",
       "</table>\n",
       "</div>"
      ],
      "text/plain": [
       "   Bluetooth  CiftHat  4G  Dokunmatik  WiFi  Renk\n",
       "0          2        1   1           1     1     0\n",
       "1          1        0   0           0     0     6\n",
       "2          2        0   1           1     0     5\n",
       "3          2        0   0           1     0    10\n",
       "4          2        1   1           0     0     0"
      ]
     },
     "execution_count": 108,
     "metadata": {},
     "output_type": "execute_result"
    }
   ],
   "source": [
    "#object değerlere label encoding uyguladım.\n",
    "le = LabelEncoder()\n",
    "X_o=X_o.apply(lambda col:le.fit_transform(col))\n",
    "X_o.head()"
   ]
  },
  {
   "cell_type": "markdown",
   "id": "4dfe2d44",
   "metadata": {},
   "source": [
    "## Normalize/Scale"
   ]
  },
  {
   "cell_type": "code",
   "execution_count": 109,
   "id": "818d8217",
   "metadata": {},
   "outputs": [],
   "source": [
    "#modelde daha iyi çıktı vermesi için normalizasyon uyguluyorum.\n",
    "from sklearn.preprocessing import MinMaxScaler\n",
    "\n",
    "mms = MinMaxScaler()\n",
    "X_n = mms.fit_transform(X_n)  #//Eğitim setine normalizasyon uygulamak\n",
    "X_o = mms.fit_transform(X_o)  #//Test setine normalizasyon uygulamak"
   ]
  },
  {
   "cell_type": "code",
   "execution_count": 110,
   "id": "6a812066",
   "metadata": {},
   "outputs": [],
   "source": [
    "import seaborn as sns\n",
    "import matplotlib.pyplot as plt"
   ]
  },
  {
   "cell_type": "code",
   "execution_count": 111,
   "id": "00ae6b4e",
   "metadata": {},
   "outputs": [
    {
     "data": {
      "text/plain": [
       "(1980, 12)"
      ]
     },
     "execution_count": 111,
     "metadata": {},
     "output_type": "execute_result"
    }
   ],
   "source": [
    "X_n.shape"
   ]
  },
  {
   "cell_type": "code",
   "execution_count": 112,
   "id": "5aa50577",
   "metadata": {},
   "outputs": [],
   "source": [
    "#ayırdığım kategorik ve numerik değişkenleri concat ediyorum."
   ]
  },
  {
   "cell_type": "code",
   "execution_count": 113,
   "id": "99ca0e6a",
   "metadata": {},
   "outputs": [],
   "source": [
    "X = np.concatenate((X_o, X_n), axis=1)"
   ]
  },
  {
   "cell_type": "code",
   "execution_count": 114,
   "id": "9d809290",
   "metadata": {},
   "outputs": [
    {
     "data": {
      "text/plain": [
       "array([[1.        , 1.        , 1.        , ..., 0.13017356, 0.55371459,\n",
       "        0.        ],\n",
       "       [0.5       , 0.        , 0.        , ..., 0.36048064, 0.96392304,\n",
       "        0.38888889],\n",
       "       [1.        , 0.        , 1.        , ..., 0.15487316, 0.39497595,\n",
       "        0.66666667],\n",
       "       ...,\n",
       "       [1.        , 0.        , 1.        , ..., 0.57343124, 0.88214858,\n",
       "        0.55555556],\n",
       "       [1.        , 0.        , 1.        , ..., 0.34245661, 0.90780331,\n",
       "        0.72222222],\n",
       "       [1.        , 1.        , 0.        , ..., 0.39252336, 0.53901657,\n",
       "        0.33333333]])"
      ]
     },
     "execution_count": 114,
     "metadata": {},
     "output_type": "execute_result"
    }
   ],
   "source": [
    "X"
   ]
  },
  {
   "cell_type": "code",
   "execution_count": 115,
   "id": "709c8c71",
   "metadata": {},
   "outputs": [
    {
     "data": {
      "text/plain": [
       "0         Normal\n",
       "1         Pahalı\n",
       "2           Ucuz\n",
       "3         Pahalı\n",
       "4         Normal\n",
       "          ...   \n",
       "1995    Çok Ucuz\n",
       "1996        Ucuz\n",
       "1997      Pahalı\n",
       "1998      Normal\n",
       "1999      Normal\n",
       "Name: FiyatAraligi, Length: 1980, dtype: object"
      ]
     },
     "execution_count": 115,
     "metadata": {},
     "output_type": "execute_result"
    }
   ],
   "source": [
    "target"
   ]
  },
  {
   "cell_type": "code",
   "execution_count": 116,
   "id": "17f8aa57",
   "metadata": {},
   "outputs": [
    {
     "data": {
      "text/plain": [
       "array([0, 1, 2, ..., 1, 0, 0])"
      ]
     },
     "execution_count": 116,
     "metadata": {},
     "output_type": "execute_result"
    }
   ],
   "source": [
    "#target için label encod ediyorum.\n",
    "le = LabelEncoder()\n",
    "target = le.fit_transform(target)\n",
    "target"
   ]
  },
  {
   "cell_type": "markdown",
   "id": "62fb4f27",
   "metadata": {},
   "source": [
    "## Split train-test"
   ]
  },
  {
   "cell_type": "code",
   "execution_count": 117,
   "id": "8de29ce4",
   "metadata": {},
   "outputs": [],
   "source": [
    "#birleştirdiğim X değeri ve target olan y değeri üzerinden split yapıyorum."
   ]
  },
  {
   "cell_type": "code",
   "execution_count": null,
   "id": "17215a2f",
   "metadata": {},
   "outputs": [],
   "source": [
    "from sklearn.model_selection import train_test_split"
   ]
  },
  {
   "cell_type": "code",
   "execution_count": 118,
   "id": "52310910",
   "metadata": {},
   "outputs": [],
   "source": [
    "y = target"
   ]
  },
  {
   "cell_type": "code",
   "execution_count": 119,
   "id": "16d8b27a",
   "metadata": {},
   "outputs": [],
   "source": [
    "X_train, X_test, y_train, y_test = train_test_split(X,\n",
    "                                                    y,\n",
    "                                                    test_size=0.33,\n",
    "                                                    random_state=42)"
   ]
  },
  {
   "cell_type": "code",
   "execution_count": 120,
   "id": "ad29dd19",
   "metadata": {},
   "outputs": [
    {
     "data": {
      "text/plain": [
       "(1326,)"
      ]
     },
     "execution_count": 120,
     "metadata": {},
     "output_type": "execute_result"
    }
   ],
   "source": [
    "y_train.shape"
   ]
  },
  {
   "cell_type": "markdown",
   "id": "7ede2760",
   "metadata": {},
   "source": [
    "# Modeling"
   ]
  },
  {
   "cell_type": "code",
   "execution_count": 122,
   "id": "65386bf6",
   "metadata": {},
   "outputs": [],
   "source": [
    "#Multiclassfication uygulayacağım."
   ]
  },
  {
   "cell_type": "code",
   "execution_count": 123,
   "id": "b02ddb6f",
   "metadata": {},
   "outputs": [
    {
     "data": {
      "text/plain": [
       "(1326, 18)"
      ]
     },
     "execution_count": 123,
     "metadata": {},
     "output_type": "execute_result"
    }
   ],
   "source": [
    "X_train.shape"
   ]
  },
  {
   "cell_type": "markdown",
   "id": "d3918bd5",
   "metadata": {},
   "source": [
    "## KNeighborsClassifier"
   ]
  },
  {
   "cell_type": "code",
   "execution_count": 125,
   "id": "a52fd160",
   "metadata": {},
   "outputs": [
    {
     "data": {
      "text/plain": [
       "KNeighborsClassifier()"
      ]
     },
     "execution_count": 125,
     "metadata": {},
     "output_type": "execute_result"
    }
   ],
   "source": [
    "# KNeighborsClassifier sınıfını import ettik\n",
    "from sklearn.neighbors import KNeighborsClassifier\n",
    "from sklearn.metrics import accuracy_score\n",
    "from sklearn.model_selection import GridSearchCV\n",
    "\n",
    "knn_model = KNeighborsClassifier().fit(X_train, y_train)\n",
    "knn_model"
   ]
  },
  {
   "cell_type": "code",
   "execution_count": 126,
   "id": "6218d236",
   "metadata": {},
   "outputs": [
    {
     "data": {
      "text/plain": [
       "0.41131498470948014"
      ]
     },
     "execution_count": 126,
     "metadata": {},
     "output_type": "execute_result"
    }
   ],
   "source": [
    "y_pred= knn_model.predict(X_test)\n",
    "accuracy_score(y_test,y_pred) #ilkel skor"
   ]
  },
  {
   "cell_type": "code",
   "execution_count": 127,
   "id": "eeb2686e",
   "metadata": {},
   "outputs": [
    {
     "data": {
      "text/plain": [
       "GridSearchCV(cv=10, estimator=KNeighborsClassifier(),\n",
       "             param_grid={'n_neighbors': array([ 1,  2,  3,  4,  5,  6,  7,  8,  9, 10, 11, 12, 13, 14, 15, 16, 17,\n",
       "       18, 19, 20, 21, 22, 23, 24, 25, 26, 27, 28, 29, 30, 31, 32, 33, 34,\n",
       "       35, 36, 37, 38, 39, 40, 41, 42, 43, 44, 45, 46, 47, 48, 49])})"
      ]
     },
     "execution_count": 127,
     "metadata": {},
     "output_type": "execute_result"
    }
   ],
   "source": [
    "#model tuning:\n",
    "knn_params= {\"n_neighbors\": np.arange(1,50)}\n",
    "\n",
    "knn = KNeighborsClassifier()\n",
    "knn_cv= GridSearchCV(knn, knn_params, cv=10)\n",
    "knn_cv.fit(X_train,y_train)\n"
   ]
  },
  {
   "cell_type": "code",
   "execution_count": 128,
   "id": "4fcc16d5",
   "metadata": {},
   "outputs": [
    {
     "name": "stdout",
     "output_type": "stream",
     "text": [
      "En iyi scor:0.5045226703121439\n",
      "En iyi parametreler:{'n_neighbors': 47}\n"
     ]
    }
   ],
   "source": [
    "print(\"En iyi scor:\"+ str(knn_cv.best_score_))\n",
    "print(\"En iyi parametreler:\"+ str(knn_cv.best_params_))\n"
   ]
  },
  {
   "cell_type": "code",
   "execution_count": 129,
   "id": "077e1dea",
   "metadata": {},
   "outputs": [],
   "source": [
    "knn= KNeighborsClassifier(47)\n",
    "knn_tuned= knn.fit(X_train, y_train)\n"
   ]
  },
  {
   "cell_type": "code",
   "execution_count": 130,
   "id": "dea4211d",
   "metadata": {},
   "outputs": [],
   "source": [
    "accuracy_scoreknn =knn_tuned.score(X_test,y_test)"
   ]
  },
  {
   "cell_type": "code",
   "execution_count": 131,
   "id": "b623115a",
   "metadata": {},
   "outputs": [
    {
     "data": {
      "text/plain": [
       "0.5076452599388379"
      ]
     },
     "execution_count": 131,
     "metadata": {},
     "output_type": "execute_result"
    }
   ],
   "source": [
    "y_pred= knn_tuned.predict(X_test)\n",
    "accuracy_score(y_test,y_pred)"
   ]
  },
  {
   "cell_type": "code",
   "execution_count": null,
   "id": "40361aff",
   "metadata": {},
   "outputs": [],
   "source": []
  },
  {
   "cell_type": "markdown",
   "id": "7badd5b1",
   "metadata": {},
   "source": [
    "## Naive Bayes"
   ]
  },
  {
   "cell_type": "code",
   "execution_count": 133,
   "id": "182bd3b8",
   "metadata": {},
   "outputs": [],
   "source": [
    "from sklearn.naive_bayes import GaussianNB\n",
    "from sklearn.model_selection import cross_val_score"
   ]
  },
  {
   "cell_type": "code",
   "execution_count": 134,
   "id": "32568b88",
   "metadata": {},
   "outputs": [
    {
     "data": {
      "text/plain": [
       "GaussianNB()"
      ]
     },
     "execution_count": 134,
     "metadata": {},
     "output_type": "execute_result"
    }
   ],
   "source": [
    "nb= GaussianNB()\n",
    "nb_model= nb.fit(X_train,y_train)\n",
    "nb_model"
   ]
  },
  {
   "cell_type": "code",
   "execution_count": 135,
   "id": "61ecd254",
   "metadata": {},
   "outputs": [
    {
     "data": {
      "text/plain": [
       "array([0, 2, 3, 1, 0, 1, 2, 1, 1, 3])"
      ]
     },
     "execution_count": 135,
     "metadata": {},
     "output_type": "execute_result"
    }
   ],
   "source": [
    "nb_model.predict(X_test)[0:10]"
   ]
  },
  {
   "cell_type": "code",
   "execution_count": 136,
   "id": "7878aceb",
   "metadata": {},
   "outputs": [
    {
     "data": {
      "text/plain": [
       "array([[6.20292684e-01, 2.14192452e-02, 3.58015719e-01, 2.72351843e-04],\n",
       "       [6.64072191e-02, 1.35049378e-04, 8.56693386e-01, 7.67643451e-02],\n",
       "       [3.93650467e-03, 1.82446421e-07, 1.91346951e-01, 8.04716362e-01],\n",
       "       [3.02295565e-01, 6.92092574e-01, 5.61185900e-03, 1.30652141e-09],\n",
       "       [4.92834228e-01, 4.54383609e-01, 5.27819910e-02, 1.71928275e-07],\n",
       "       [2.31514849e-02, 9.76826703e-01, 2.18121544e-05, 3.03450119e-16],\n",
       "       [4.35555743e-01, 1.00830419e-03, 5.53316361e-01, 1.01195914e-02],\n",
       "       [2.14086308e-01, 7.79820995e-01, 6.09269681e-03, 3.77837937e-10],\n",
       "       [8.88690857e-02, 9.11077572e-01, 5.33423028e-05, 6.66485156e-15],\n",
       "       [1.36541263e-02, 9.17051257e-07, 2.61946736e-01, 7.24398220e-01]])"
      ]
     },
     "execution_count": 136,
     "metadata": {},
     "output_type": "execute_result"
    }
   ],
   "source": [
    "nb_model.predict_proba(X_test)[0:10] #olasılık değerlerine erişebilirim."
   ]
  },
  {
   "cell_type": "code",
   "execution_count": 137,
   "id": "b511bb78",
   "metadata": {},
   "outputs": [
    {
     "data": {
      "text/plain": [
       "0.8042813455657493"
      ]
     },
     "execution_count": 137,
     "metadata": {},
     "output_type": "execute_result"
    }
   ],
   "source": [
    "y_pred= nb_model.predict(X_test)\n",
    "accuracy_score(y_test,y_pred) #test hatası"
   ]
  },
  {
   "cell_type": "code",
   "execution_count": 138,
   "id": "15ef320c",
   "metadata": {},
   "outputs": [],
   "source": [
    "accuracy_scorenb= cross_val_score(nb_model, X_test, y_test, cv=10).mean()"
   ]
  },
  {
   "cell_type": "code",
   "execution_count": 139,
   "id": "b82bbcda",
   "metadata": {},
   "outputs": [
    {
     "data": {
      "text/plain": [
       "0.8119580419580419"
      ]
     },
     "execution_count": 139,
     "metadata": {},
     "output_type": "execute_result"
    }
   ],
   "source": [
    "accuracy_scorenb"
   ]
  },
  {
   "cell_type": "markdown",
   "id": "b6032635",
   "metadata": {},
   "source": [
    "## Random Forest"
   ]
  },
  {
   "cell_type": "code",
   "execution_count": 140,
   "id": "37795ee6",
   "metadata": {},
   "outputs": [],
   "source": [
    "from sklearn.ensemble import RandomForestClassifier"
   ]
  },
  {
   "cell_type": "code",
   "execution_count": 143,
   "id": "0e4f561c",
   "metadata": {},
   "outputs": [
    {
     "data": {
      "text/plain": [
       "RandomForestClassifier()"
      ]
     },
     "execution_count": 143,
     "metadata": {},
     "output_type": "execute_result"
    }
   ],
   "source": [
    "rf_model=RandomForestClassifier(n_estimators=100).fit(X_train,y_train)\n",
    "rf_model\n"
   ]
  },
  {
   "cell_type": "code",
   "execution_count": 144,
   "id": "9ae7a1c9",
   "metadata": {},
   "outputs": [],
   "source": [
    "y_pred= rf_model.predict(X_test)\n",
    "accuracy_scorerf= accuracy_score(y_test,y_pred)"
   ]
  },
  {
   "cell_type": "code",
   "execution_count": 145,
   "id": "16cafdd3",
   "metadata": {},
   "outputs": [
    {
     "data": {
      "text/plain": [
       "0.8807339449541285"
      ]
     },
     "execution_count": 145,
     "metadata": {},
     "output_type": "execute_result"
    }
   ],
   "source": [
    "accuracy_scorerf"
   ]
  },
  {
   "cell_type": "markdown",
   "id": "cc81a075",
   "metadata": {},
   "source": [
    "## Gradient Boosting"
   ]
  },
  {
   "cell_type": "code",
   "execution_count": 146,
   "id": "f19c14d5",
   "metadata": {},
   "outputs": [],
   "source": [
    "from sklearn.ensemble import GradientBoostingClassifier"
   ]
  },
  {
   "cell_type": "code",
   "execution_count": 147,
   "id": "5ac304b1",
   "metadata": {},
   "outputs": [],
   "source": [
    "gbm_model= GradientBoostingClassifier().fit(X_train,y_train)"
   ]
  },
  {
   "cell_type": "code",
   "execution_count": 148,
   "id": "bb7f3c01",
   "metadata": {},
   "outputs": [],
   "source": [
    "y_pred= gbm_model.predict(X_test)\n",
    "accuracy_scoregb= accuracy_score(y_test,y_pred)"
   ]
  },
  {
   "cell_type": "code",
   "execution_count": 149,
   "id": "83604142",
   "metadata": {},
   "outputs": [
    {
     "data": {
      "text/plain": [
       "0.8960244648318043"
      ]
     },
     "execution_count": 149,
     "metadata": {},
     "output_type": "execute_result"
    }
   ],
   "source": [
    "accuracy_scoregb"
   ]
  },
  {
   "cell_type": "markdown",
   "id": "1b940b1c",
   "metadata": {},
   "source": [
    "# Modellerin Karşılaştırılması"
   ]
  },
  {
   "cell_type": "code",
   "execution_count": 157,
   "id": "df511b3e",
   "metadata": {},
   "outputs": [],
   "source": [
    "modeller= [\n",
    "    knn_tuned,\n",
    "    nb_model,\n",
    "    rf_model,\n",
    "    gbm_model\n",
    "]"
   ]
  },
  {
   "cell_type": "code",
   "execution_count": 159,
   "id": "f427d40e",
   "metadata": {},
   "outputs": [
    {
     "name": "stdout",
     "output_type": "stream",
     "text": [
      "----------------------------\n",
      "KNeighborsClassifier:\n",
      "Acccuracy: 50.7645%\n",
      "----------------------------\n",
      "GaussianNB:\n",
      "Acccuracy: 80.4281%\n",
      "----------------------------\n",
      "RandomForestClassifier:\n",
      "Acccuracy: 88.0734%\n",
      "----------------------------\n",
      "GradientBoostingClassifier:\n",
      "Acccuracy: 89.6024%\n"
     ]
    }
   ],
   "source": [
    "for model in modeller:\n",
    "    isimler= model.__class__.__name__\n",
    "    #model\n",
    "    y_pred= model.predict(X_test)\n",
    "    dogruluk= accuracy_score( y_test, y_pred)\n",
    "    print(\"-\"*28)\n",
    "    print(isimler + \":\")\n",
    "    print(\"Acccuracy: {:.4%}\".format(dogruluk))"
   ]
  },
  {
   "cell_type": "code",
   "execution_count": 161,
   "id": "025cf0cd",
   "metadata": {},
   "outputs": [],
   "source": [
    "sonuc=[]\n",
    "sonuclar= pd.DataFrame(columns=[\"modeller\",\"accuracy\"])"
   ]
  },
  {
   "cell_type": "code",
   "execution_count": 162,
   "id": "e63cb59d",
   "metadata": {},
   "outputs": [],
   "source": [
    "for model in modeller:\n",
    "    isimler= model.__class__.__name__\n",
    "    y_pred= model.predict(X_test)\n",
    "    dogruluk= accuracy_score( y_test, y_pred)\n",
    "    sonuc= pd.DataFrame([[isimler,dogruluk*100]],columns= [\"modeller\",\"accuracy\"])\n",
    "    sonuclar=sonuclar.append(sonuc)"
   ]
  },
  {
   "cell_type": "code",
   "execution_count": 163,
   "id": "6bda4acf",
   "metadata": {},
   "outputs": [
    {
     "data": {
      "image/png": "[encoded data removed]",
      "text/plain": [
       "<Figure size 432x288 with 1 Axes>"
      ]
     },
     "metadata": {
      "needs_background": "light"
     },
     "output_type": "display_data"
    }
   ],
   "source": [
    "sns.barplot(x=\"accuracy\",y=\"modeller\",data=sonuclar, color=\"r\")\n",
    "plt.xlabel(\"accuracy %\")\n",
    "plt.title(\"Modellerin Doğruluk Oranı\");"
   ]
  },
  {
   "cell_type": "markdown",
   "id": "8a56b5b1",
   "metadata": {},
   "source": [
    "Grafikte de görüldüğü üzere benim tercih edeceğim model %89 başarı olasılığıyla Gradient Boosting Classifier olacaktır.\n"
   ]
  }
 ],
 "metadata": {
  "kernelspec": {
   "display_name": "Python 3",
   "language": "python",
   "name": "python3"
  },
  "language_info": {
   "codemirror_mode": {
    "name": "ipython",
    "version": 3
   },
   "file_extension": ".py",
   "mimetype": "text/x-python",
   "name": "python",
   "nbconvert_exporter": "python",
   "pygments_lexer": "ipython3",
   "version": "3.8.8"
  },
  "toc": {
   "base_numbering": 1,
   "nav_menu": {},
   "number_sections": true,
   "sideBar": true,
   "skip_h1_title": false,
   "title_cell": "Table of Contents",
   "title_sidebar": "Contents",
   "toc_cell": false,
   "toc_position": {
    "height": "calc(100% - 180px)",
    "left": "10px",
    "top": "150px",
    "width": "307.1875px"
   },
   "toc_section_display": true,
   "toc_window_display": true
  }
 },
 "nbformat": 4,
 "nbformat_minor": 5
}
